{
  "nbformat": 4,
  "nbformat_minor": 0,
  "metadata": {
    "colab": {
      "name": "Transfer_Learning_1(Feature_Extraction).ipynb",
      "provenance": []
    },
    "kernelspec": {
      "name": "python3",
      "display_name": "Python 3"
    },
    "language_info": {
      "name": "python"
    },
    "accelerator": "GPU",
    "gpuClass": "standard"
  },
  "cells": [
    {
      "cell_type": "markdown",
      "source": [
        "# becoming with data\n"
      ],
      "metadata": {
        "id": "Uih1pmS4873q"
      }
    },
    {
      "cell_type": "code",
      "source": [
        "import zipfile\n",
        "!wget https://storage.googleapis.com/ztm_tf_course/food_vision/10_food_classes_10_percent.zip\n",
        "zip_ref = zipfile.ZipFile(\"10_food_classes_10_percent.zip\")\n",
        "zip_ref.extractall()\n",
        "zip_ref.close()"
      ],
      "metadata": {
        "colab": {
          "base_uri": "https://localhost:8080/"
        },
        "id": "WYbQsFt39s8D",
        "outputId": "da58a8fa-6a24-4576-de3c-51f4f674e9f5"
      },
      "execution_count": null,
      "outputs": [
        {
          "output_type": "stream",
          "name": "stdout",
          "text": [
            "--2022-07-19 03:59:33--  https://storage.googleapis.com/ztm_tf_course/food_vision/10_food_classes_10_percent.zip\n",
            "Resolving storage.googleapis.com (storage.googleapis.com)... 142.251.6.128, 142.251.120.128, 142.251.161.128, ...\n",
            "Connecting to storage.googleapis.com (storage.googleapis.com)|142.251.6.128|:443... connected.\n",
            "HTTP request sent, awaiting response... 200 OK\n",
            "Length: 168546183 (161M) [application/zip]\n",
            "Saving to: ‘10_food_classes_10_percent.zip’\n",
            "\n",
            "10_food_classes_10_ 100%[===================>] 160.74M   175MB/s    in 0.9s    \n",
            "\n",
            "2022-07-19 03:59:34 (175 MB/s) - ‘10_food_classes_10_percent.zip’ saved [168546183/168546183]\n",
            "\n"
          ]
        }
      ]
    },
    {
      "cell_type": "code",
      "source": [
        "import os \n",
        "for dirpath,dirnames,filenames in os.walk(\"10_food_classes_10_percent\"):\n",
        "  print(f\"There are {len(dirnames)} dircetories and {len(filenames)} in '{dirpath}'\")"
      ],
      "metadata": {
        "colab": {
          "base_uri": "https://localhost:8080/"
        },
        "id": "20dr7sQU-OW7",
        "outputId": "c5435619-284a-4fbc-fcc1-ba734f14c46b"
      },
      "execution_count": null,
      "outputs": [
        {
          "output_type": "stream",
          "name": "stdout",
          "text": [
            "There are 2 dircetories and 0 in '10_food_classes_10_percent'\n",
            "There are 10 dircetories and 0 in '10_food_classes_10_percent/test'\n",
            "There are 0 dircetories and 250 in '10_food_classes_10_percent/test/sushi'\n",
            "There are 0 dircetories and 250 in '10_food_classes_10_percent/test/chicken_wings'\n",
            "There are 0 dircetories and 250 in '10_food_classes_10_percent/test/steak'\n",
            "There are 0 dircetories and 250 in '10_food_classes_10_percent/test/grilled_salmon'\n",
            "There are 0 dircetories and 250 in '10_food_classes_10_percent/test/chicken_curry'\n",
            "There are 0 dircetories and 250 in '10_food_classes_10_percent/test/hamburger'\n",
            "There are 0 dircetories and 250 in '10_food_classes_10_percent/test/pizza'\n",
            "There are 0 dircetories and 250 in '10_food_classes_10_percent/test/ramen'\n",
            "There are 0 dircetories and 250 in '10_food_classes_10_percent/test/ice_cream'\n",
            "There are 0 dircetories and 250 in '10_food_classes_10_percent/test/fried_rice'\n",
            "There are 10 dircetories and 0 in '10_food_classes_10_percent/train'\n",
            "There are 0 dircetories and 75 in '10_food_classes_10_percent/train/sushi'\n",
            "There are 0 dircetories and 75 in '10_food_classes_10_percent/train/chicken_wings'\n",
            "There are 0 dircetories and 75 in '10_food_classes_10_percent/train/steak'\n",
            "There are 0 dircetories and 75 in '10_food_classes_10_percent/train/grilled_salmon'\n",
            "There are 0 dircetories and 75 in '10_food_classes_10_percent/train/chicken_curry'\n",
            "There are 0 dircetories and 75 in '10_food_classes_10_percent/train/hamburger'\n",
            "There are 0 dircetories and 75 in '10_food_classes_10_percent/train/pizza'\n",
            "There are 0 dircetories and 75 in '10_food_classes_10_percent/train/ramen'\n",
            "There are 0 dircetories and 75 in '10_food_classes_10_percent/train/ice_cream'\n",
            "There are 0 dircetories and 75 in '10_food_classes_10_percent/train/fried_rice'\n"
          ]
        }
      ]
    },
    {
      "cell_type": "markdown",
      "source": [
        "# Creating the dataLoaders\n",
        "we will use ImageDataGenerator"
      ],
      "metadata": {
        "id": "rsZDZGGp-_5L"
      }
    },
    {
      "cell_type": "code",
      "source": [
        "from tensorflow.keras.preprocessing.image import ImageDataGenerator\n",
        "\n",
        "\n",
        "IMAGE_SHAPE = (224,224)\n",
        "BATCH_SIZE = 32\n",
        "\n",
        "train_dir = '10_food_classes_10_percent/train/'\n",
        "test_dir = '10_food_classes_10_percent/test/'\n",
        "\n",
        "train_datagen = ImageDataGenerator(rescale=1/255.)\n",
        "test_datagen = ImageDataGenerator(rescale=1/255.)\n",
        "\n",
        "print(\"Training images: \")\n",
        "train_data_10_percent = train_datagen.flow_from_directory(train_dir,target_size = IMAGE_SHAPE,batch_size = BATCH_SIZE,class_mode = 'categorical')\n",
        "print('testing images: ')\n",
        "test_data_10_precent = test_datagen.flow_from_directory(test_dir,target_size = IMAGE_SHAPE,batch_size = BATCH_SIZE,class_mode = 'categorical')"
      ],
      "metadata": {
        "colab": {
          "base_uri": "https://localhost:8080/"
        },
        "id": "ht49TT-n_e0C",
        "outputId": "949fcda7-ff27-4feb-f3d5-13385f398922"
      },
      "execution_count": null,
      "outputs": [
        {
          "output_type": "stream",
          "name": "stdout",
          "text": [
            "Training images: \n",
            "Found 750 images belonging to 10 classes.\n",
            "testing images: \n",
            "Found 2500 images belonging to 10 classes.\n"
          ]
        }
      ]
    },
    {
      "cell_type": "code",
      "source": [
        "print(\"hello\")"
      ],
      "metadata": {
        "colab": {
          "base_uri": "https://localhost:8080/"
        },
        "id": "NV1K4iwIBugw",
        "outputId": "700ef606-af1d-452d-991e-8f88fcdaa7a6"
      },
      "execution_count": null,
      "outputs": [
        {
          "output_type": "stream",
          "name": "stdout",
          "text": [
            "hello\n"
          ]
        }
      ]
    },
    {
      "cell_type": "markdown",
      "source": [
        "# Setting up callbacks (things to run whilst our model trains)\n",
        "* callback are tools which can add helpful functionality to your models during training, evaluation or inference. \n",
        "Some popular callbacks are \n",
        "\n",
        "\n",
        "1.   TensorBoard\n",
        "2.   Model Checkpoint \n",
        "\n"
      ],
      "metadata": {
        "id": "4wpz7fIiCR05"
      }
    },
    {
      "cell_type": "code",
      "source": [
        "# create a tensorboard callback\n",
        "import datetime\n",
        "import tensorflow as tf\n",
        "\n",
        "def create_tensorboard_Callback(dir_name,experiment_name):\n",
        "  log_dir = dir_name + '/' + experiment_name + '/' + datetime.datetime.now().strftime('%y%m%d-%H%M%S')\n",
        "  tensorboard_callback = tf.keras.callbacks.TensorBoard(log_dir = log_dir)\n",
        "  print(f\"Saving Tensorboard logfile to: '{log_dir}'\")\n",
        "  return tensorboard_callback"
      ],
      "metadata": {
        "id": "cZYOjPexM_9a"
      },
      "execution_count": null,
      "outputs": []
    },
    {
      "cell_type": "markdown",
      "source": [
        "# Creating a model using Tensorflow hub"
      ],
      "metadata": {
        "id": "HTbJHfFtQcvU"
      }
    },
    {
      "cell_type": "code",
      "source": [
        "# lets compare the following two models\n",
        "resnet_url = \"https://tfhub.dev/google/imagenet/resnet_v2_50/feature_vector/5\"\n",
        "efficientnet_url = \"https://tfhub.dev/tensorflow/efficientnet/b0/feature-vector/1\"\n"
      ],
      "metadata": {
        "id": "-hmc-OiWQqud"
      },
      "execution_count": null,
      "outputs": []
    },
    {
      "cell_type": "code",
      "source": [
        "import tensorflow as tf\n",
        "import tensorflow_hub as hub\n",
        "from tensorflow.keras import layers\n"
      ],
      "metadata": {
        "id": "cxp5Xom1op67"
      },
      "execution_count": null,
      "outputs": []
    },
    {
      "cell_type": "code",
      "source": [
        "# Let's make a Create_model() function to create model from url\n",
        "def create_model(model_url,num_classes=10):\n",
        "\n",
        "  \"\"\"  Takes a tensorflow hub url and create a keras sequential model with it.\n",
        "  args: \n",
        "        model_url --> a tensorflow hub feature extraction url.\n",
        "        num_classes --> number of outupt neurons in the output layer, should be equal to number of target classes. \n",
        "  Returns: \n",
        "        an uncompiled keras Sequential model with model_url as feature extractor layer and dense output layer with num_classes output neruons.\n",
        "        \"\"\"\n",
        "  # download the pretrained model\n",
        "  feature_extractor_layer = hub.KerasLayer(model_url,\n",
        "                                           trainable=False,\n",
        "                                           name=\"feature_extraction_layer\",\n",
        "                                           input_shape=IMAGE_SHAPE+(3,))\n",
        "  # lets create our sequential model\n",
        "  model = tf.keras.Sequential([\n",
        "                               feature_extractor_layer,\n",
        "                               layers.Dense(num_classes, activation=\"softmax\", name=\"output_layer\")\n",
        "  ])\n",
        "  return model"
      ],
      "metadata": {
        "id": "QBMubZ_OpDFf"
      },
      "execution_count": 1,
      "outputs": []
    },
    {
      "cell_type": "markdown",
      "source": [
        "### Creating and testing RESNET moddel"
      ],
      "metadata": {
        "id": "c2nckGtDsgwa"
      }
    },
    {
      "cell_type": "code",
      "source": [
        "resnet_model = create_model(resnet_url,\n",
        "                            num_classes=train_data_10_percent.num_classes)"
      ],
      "metadata": {
        "id": "jWwsqlTctaE4"
      },
      "execution_count": null,
      "outputs": []
    },
    {
      "cell_type": "code",
      "source": [
        "# let's compile the model\n",
        "resnet_model.compile(loss=\"categorical_crossentropy\",\n",
        "                     optimizer = tf.keras.optimizers.Adam(),\n",
        "                     metrics=[\"accuracy\"])"
      ],
      "metadata": {
        "id": "TuzaOCLKuHLY"
      },
      "execution_count": null,
      "outputs": []
    },
    {
      "cell_type": "code",
      "source": [
        "resnet_history = resnet_model.fit(train_data_10_percent,\n",
        "                                  epochs=5,\n",
        "                                  steps_per_epoch=len(train_data_10_percent),\n",
        "                                  validation_data = test_data_10_precent,\n",
        "                                  validation_steps = len(test_data_10_precent),\n",
        "                                  callbacks=[create_tensorboard_Callback(dir_name='tensorflow_hub',\n",
        "                                                                         experiment_name='resnet50V2')])"
      ],
      "metadata": {
        "colab": {
          "base_uri": "https://localhost:8080/"
        },
        "id": "rdhCZS3bvCaB",
        "outputId": "376780c0-852e-4e8f-b0bf-6a673a431108"
      },
      "execution_count": null,
      "outputs": [
        {
          "output_type": "stream",
          "name": "stdout",
          "text": [
            "Saving Tensorboard logfile to: 'tensorflow_hub/resnet50V2/220719-044053'\n",
            "Epoch 1/5\n",
            "24/24 [==============================] - 31s 748ms/step - loss: 1.9869 - accuracy: 0.3360 - val_loss: 1.2535 - val_accuracy: 0.5864\n",
            "Epoch 2/5\n",
            "24/24 [==============================] - 16s 699ms/step - loss: 0.8815 - accuracy: 0.7440 - val_loss: 0.8363 - val_accuracy: 0.7356\n",
            "Epoch 3/5\n",
            "24/24 [==============================] - 16s 665ms/step - loss: 0.6002 - accuracy: 0.8373 - val_loss: 0.7497 - val_accuracy: 0.7584\n",
            "Epoch 4/5\n",
            "24/24 [==============================] - 16s 668ms/step - loss: 0.4554 - accuracy: 0.8853 - val_loss: 0.7179 - val_accuracy: 0.7616\n",
            "Epoch 5/5\n",
            "24/24 [==============================] - 16s 669ms/step - loss: 0.3725 - accuracy: 0.9173 - val_loss: 0.6805 - val_accuracy: 0.7756\n"
          ]
        }
      ]
    },
    {
      "cell_type": "code",
      "source": [
        "# let's create funtion to create loss curves\n",
        "import matplotlib.pyplot as plt\n",
        "def plot_loss_curves(history):\n",
        "  \"\"\"\n",
        "  Return seperate loss curves for training and validatin metrics.\n",
        "  args: \n",
        "        history \n",
        "  return: \n",
        "        plots of training and validation and accuracy metrics.\n",
        "        \"\"\"\n",
        "  \n",
        "  loss = history.history[\"loss\"]\n",
        "  val_loss = history.history[\"val_loss\"]\n",
        "\n",
        "  accuracy = history.history[\"accuracy\"]\n",
        "  val_accuracy=history.history['val_accuracy']\n",
        "  epochs = range(len(history.history['loss']))\n",
        "\n",
        "  # plot loss\n",
        "  plt.plot(epochs,loss,label=\"training_loss\")\n",
        "  plt.plot(epochs,val_loss,label=\"val_loss\")\n",
        "  plt.title(\"loss\")\n",
        "  plt.xlabel(\"epochs\")\n",
        "  plt.legend()\n",
        "\n",
        " # plot accuracy\n",
        "  plt.figure()\n",
        "  plt.plot(epochs,accuracy,label=\"training_acc\")\n",
        "  plt.plot(epochs,val_accuracy,label=\"val_acc\")\n",
        "  plt.title(\"acc\")\n",
        "  plt.xlabel(\"epochs\")\n",
        "  plt.legend()\n"
      ],
      "metadata": {
        "id": "KjStzxyswgXq"
      },
      "execution_count": null,
      "outputs": []
    },
    {
      "cell_type": "code",
      "source": [
        "plot_loss_curves(resnet_history)"
      ],
      "metadata": {
        "colab": {
          "base_uri": "https://localhost:8080/",
          "height": 573
        },
        "id": "SuUzvbgIy5qL",
        "outputId": "993a3908-6ce6-407f-e741-0a2924561486"
      },
      "execution_count": null,
      "outputs": [
        {
          "output_type": "display_data",
          "data": {
            "text/plain": [
              "<Figure size 432x288 with 1 Axes>"
            ],
            "image/png": "[encoded data removed]"
          },
          "metadata": {
            "needs_background": "light"
          }
        },
        {
          "output_type": "display_data",
          "data": {
            "text/plain": [
              "<Figure size 432x288 with 1 Axes>"
            ],
            "image/png": "[encoded data removed]"
          },
          "metadata": {
            "needs_background": "light"
          }
        }
      ]
    },
    {
      "cell_type": "markdown",
      "source": [
        "# creating and testing EfficientNetB0 tensorflow hub feature extraction"
      ],
      "metadata": {
        "id": "x7FSam1R0hGp"
      }
    },
    {
      "cell_type": "code",
      "source": [
        "# create Efficeint model \n",
        "\n",
        "efficientnet_model = create_model(model_url=efficientnet_url,num_classes=train_data_10_percent.num_classes)\n",
        "\n",
        "# compile the model\n",
        "efficientnet_model.compile(loss=\"categorical_crossentropy\",\n",
        "                           optimizer = tf.keras.optimizers.Adam(),\n",
        "                           metrics=[\"accuracy\"])\n",
        "\n",
        "# fit the model\n",
        "efficinet_history = efficientnet_model.fit(train_data_10_percent,\n",
        "                                  epochs=5,\n",
        "                                  steps_per_epoch=len(train_data_10_percent),\n",
        "                                  validation_data = test_data_10_precent,\n",
        "                                  validation_steps = len(test_data_10_precent),\n",
        "                                  callbacks=[create_tensorboard_Callback(dir_name='tensorflow_hub',\n",
        "                                                                         experiment_name='efficientnetb0')])"
      ],
      "metadata": {
        "colab": {
          "base_uri": "https://localhost:8080/"
        },
        "id": "ak5NSBvh82hp",
        "outputId": "b4b7b7a8-b885-4130-a73b-24a0eda1c6cb"
      },
      "execution_count": null,
      "outputs": [
        {
          "output_type": "stream",
          "name": "stdout",
          "text": [
            "Saving Tensorboard logfile to: 'tensorflow_hub/efficientnetb0/220719-054116'\n",
            "Epoch 1/5\n",
            "24/24 [==============================] - 26s 720ms/step - loss: 1.8014 - accuracy: 0.4533 - val_loss: 1.2392 - val_accuracy: 0.7556\n",
            "Epoch 2/5\n",
            "24/24 [==============================] - 15s 647ms/step - loss: 1.0131 - accuracy: 0.7907 - val_loss: 0.8273 - val_accuracy: 0.8252\n",
            "Epoch 3/5\n",
            "24/24 [==============================] - 15s 640ms/step - loss: 0.7270 - accuracy: 0.8453 - val_loss: 0.6660 - val_accuracy: 0.8512\n",
            "Epoch 4/5\n",
            "24/24 [==============================] - 15s 639ms/step - loss: 0.5812 - accuracy: 0.8747 - val_loss: 0.5879 - val_accuracy: 0.8572\n",
            "Epoch 5/5\n",
            "24/24 [==============================] - 15s 635ms/step - loss: 0.4952 - accuracy: 0.8947 - val_loss: 0.5382 - val_accuracy: 0.8648\n"
          ]
        }
      ]
    },
    {
      "cell_type": "code",
      "source": [
        "plot_loss_curves(efficinet_history)"
      ],
      "metadata": {
        "colab": {
          "base_uri": "https://localhost:8080/",
          "height": 573
        },
        "id": "kB5lSj7a-Woj",
        "outputId": "05226bbf-b1c2-4d41-fd5e-9953c771b190"
      },
      "execution_count": null,
      "outputs": [
        {
          "output_type": "display_data",
          "data": {
            "text/plain": [
              "<Figure size 432x288 with 1 Axes>"
            ],
            "image/png": "[encoded data removed]"
          },
          "metadata": {
            "needs_background": "light"
          }
        },
        {
          "output_type": "display_data",
          "data": {
            "text/plain": [
              "<Figure size 432x288 with 1 Axes>"
            ],
            "image/png": "[encoded data removed]"
          },
          "metadata": {
            "needs_background": "light"
          }
        }
      ]
    },
    {
      "cell_type": "code",
      "source": [
        "efficientnet_model.summary()"
      ],
      "metadata": {
        "colab": {
          "base_uri": "https://localhost:8080/"
        },
        "id": "BJEf7PLrAB6D",
        "outputId": "0cb01a74-2d1b-4e0c-f7b2-b1d05017403c"
      },
      "execution_count": null,
      "outputs": [
        {
          "output_type": "stream",
          "name": "stdout",
          "text": [
            "Model: \"sequential_2\"\n",
            "_________________________________________________________________\n",
            " Layer (type)                Output Shape              Param #   \n",
            "=================================================================\n",
            " feature_extraction_layer (K  (None, 1280)             4049564   \n",
            " erasLayer)                                                      \n",
            "                                                                 \n",
            " output_layer (Dense)        (None, 10)                12810     \n",
            "                                                                 \n",
            "=================================================================\n",
            "Total params: 4,062,374\n",
            "Trainable params: 12,810\n",
            "Non-trainable params: 4,049,564\n",
            "_________________________________________________________________\n"
          ]
        }
      ]
    },
    {
      "cell_type": "code",
      "source": [
        ""
      ],
      "metadata": {
        "id": "UVA8R-SbCpXD"
      },
      "execution_count": null,
      "outputs": []
    }
  ]
}