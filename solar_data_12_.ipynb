{
  "nbformat": 4,
  "nbformat_minor": 0,
  "metadata": {
    "colab": {
      "name": "solar_data_12%.ipynb",
      "provenance": []
    },
    "kernelspec": {
      "name": "python3",
      "display_name": "Python 3"
    },
    "language_info": {
      "name": "python"
    },
    "gpuClass": "standard"
  },
  "cells": [
    {
      "cell_type": "markdown",
      "source": [
        "# Model on Solar power data by Neural Network"
      ],
      "metadata": {
        "id": "5ue6YaNtaRRA"
      }
    },
    {
      "cell_type": "code",
      "execution_count": 1,
      "metadata": {
        "id": "rX3XuOXmJwLP"
      },
      "outputs": [],
      "source": [
        "# Importing libraries\n",
        "import pandas as pd\n",
        "import numpy as np\n",
        "import seaborn as sns\n",
        "import matplotlib.pyplot as plt"
      ]
    },
    {
      "cell_type": "code",
      "source": [
        "# Reading the dataset \n",
        "dataset = pd.read_csv(\"solardatacopy.csv\")"
      ],
      "metadata": {
        "colab": {
          "base_uri": "https://localhost:8080/"
        },
        "id": "tOHTX5E3Ku3O",
        "outputId": "43bc12ff-c0fb-4e9b-ef9d-be3e7fd03c51"
      },
      "execution_count": 2,
      "outputs": [
        {
          "output_type": "stream",
          "name": "stderr",
          "text": [
            "/usr/local/lib/python3.7/dist-packages/IPython/core/interactiveshell.py:3326: DtypeWarning: Columns (4) have mixed types.Specify dtype option on import or set low_memory=False.\n",
            "  exec(code_obj, self.user_global_ns, self.user_ns)\n"
          ]
        }
      ]
    },
    {
      "cell_type": "code",
      "source": [
        "dataset.head(3)"
      ],
      "metadata": {
        "colab": {
          "base_uri": "https://localhost:8080/",
          "height": 312
        },
        "id": "y5CFjSgMK4uU",
        "outputId": "f793a339-b5e5-4d78-f99e-5d2572584d98"
      },
      "execution_count": 3,
      "outputs": [
        {
          "output_type": "execute_result",
          "data": {
            "text/plain": [
              "          Timestamp   Air_Temp  Relative_Humidity  Wind_Speed Wind_Direction  \\\n",
              "0  27-04-2022 15:32  43.349172          12.790256    0.533333      118.78662   \n",
              "1  27-04-2022 15:34  43.433980          11.468986    1.866667      84.681408   \n",
              "2  27-04-2022 15:36  43.286580          11.047298    2.866667      40.807156   \n",
              "\n",
              "  Solar_Radiation      RTD_1      RTD_2      RTD_3      RTD_4      RTD_5  \\\n",
              "0       707.53384  98.289640  94.283552  89.002824  93.334288  94.142984   \n",
              "1       710.46328  98.377480  94.177872  89.334664  93.633208  94.107592   \n",
              "2       695.51016  97.868064  93.703480  88.844592  92.982568  93.650656   \n",
              "\n",
              "   Array_Voltage  Array_Current  Power_Generated  \n",
              "0      80.178232       5.364869        430.14572  \n",
              "1      80.266728       5.366041        430.71452  \n",
              "2      80.187416       5.365501        430.24568  "
            ],
            "text/html": [
              "\n",
              "  <div id=\"df-96388d35-ce93-435c-8b64-61adbd2b85d2\">\n",
              "    <div class=\"colab-df-container\">\n",
              "      <div>\n",
              "<style scoped>\n",
              "    .dataframe tbody tr th:only-of-type {\n",
              "        vertical-align: middle;\n",
              "    }\n",
              "\n",
              "    .dataframe tbody tr th {\n",
              "        vertical-align: top;\n",
              "    }\n",
              "\n",
              "    .dataframe thead th {\n",
              "        text-align: right;\n",
              "    }\n",
              "</style>\n",
              "<table border=\"1\" class=\"dataframe\">\n",
              "  <thead>\n",
              "    <tr style=\"text-align: right;\">\n",
              "      <th></th>\n",
              "      <th>Timestamp</th>\n",
              "      <th>Air_Temp</th>\n",
              "      <th>Relative_Humidity</th>\n",
              "      <th>Wind_Speed</th>\n",
              "      <th>Wind_Direction</th>\n",
              "      <th>Solar_Radiation</th>\n",
              "      <th>RTD_1</th>\n",
              "      <th>RTD_2</th>\n",
              "      <th>RTD_3</th>\n",
              "      <th>RTD_4</th>\n",
              "      <th>RTD_5</th>\n",
              "      <th>Array_Voltage</th>\n",
              "      <th>Array_Current</th>\n",
              "      <th>Power_Generated</th>\n",
              "    </tr>\n",
              "  </thead>\n",
              "  <tbody>\n",
              "    <tr>\n",
              "      <th>0</th>\n",
              "      <td>27-04-2022 15:32</td>\n",
              "      <td>43.349172</td>\n",
              "      <td>12.790256</td>\n",
              "      <td>0.533333</td>\n",
              "      <td>118.78662</td>\n",
              "      <td>707.53384</td>\n",
              "      <td>98.289640</td>\n",
              "      <td>94.283552</td>\n",
              "      <td>89.002824</td>\n",
              "      <td>93.334288</td>\n",
              "      <td>94.142984</td>\n",
              "      <td>80.178232</td>\n",
              "      <td>5.364869</td>\n",
              "      <td>430.14572</td>\n",
              "    </tr>\n",
              "    <tr>\n",
              "      <th>1</th>\n",
              "      <td>27-04-2022 15:34</td>\n",
              "      <td>43.433980</td>\n",
              "      <td>11.468986</td>\n",
              "      <td>1.866667</td>\n",
              "      <td>84.681408</td>\n",
              "      <td>710.46328</td>\n",
              "      <td>98.377480</td>\n",
              "      <td>94.177872</td>\n",
              "      <td>89.334664</td>\n",
              "      <td>93.633208</td>\n",
              "      <td>94.107592</td>\n",
              "      <td>80.266728</td>\n",
              "      <td>5.366041</td>\n",
              "      <td>430.71452</td>\n",
              "    </tr>\n",
              "    <tr>\n",
              "      <th>2</th>\n",
              "      <td>27-04-2022 15:36</td>\n",
              "      <td>43.286580</td>\n",
              "      <td>11.047298</td>\n",
              "      <td>2.866667</td>\n",
              "      <td>40.807156</td>\n",
              "      <td>695.51016</td>\n",
              "      <td>97.868064</td>\n",
              "      <td>93.703480</td>\n",
              "      <td>88.844592</td>\n",
              "      <td>92.982568</td>\n",
              "      <td>93.650656</td>\n",
              "      <td>80.187416</td>\n",
              "      <td>5.365501</td>\n",
              "      <td>430.24568</td>\n",
              "    </tr>\n",
              "  </tbody>\n",
              "</table>\n",
              "</div>\n",
              "      <button class=\"colab-df-convert\" onclick=\"convertToInteractive('df-96388d35-ce93-435c-8b64-61adbd2b85d2')\"\n",
              "              title=\"Convert this dataframe to an interactive table.\"\n",
              "              style=\"display:none;\">\n",
              "        \n",
              "  <svg xmlns=\"http://www.w3.org/2000/svg\" height=\"24px\"viewBox=\"0 0 24 24\"\n",
              "       width=\"24px\">\n",
              "    <path d=\"M0 0h24v24H0V0z\" fill=\"none\"/>\n",
              "    <path d=\"M18.56 5.44l.94 2.06.94-2.06 2.06-.94-2.06-.94-.94-2.06-.94 2.06-2.06.94zm-11 1L8.5 8.5l.94-2.06 2.06-.94-2.06-.94L8.5 2.5l-.94 2.06-2.06.94zm10 10l.94 2.06.94-2.06 2.06-.94-2.06-.94-.94-2.06-.94 2.06-2.06.94z\"/><path d=\"M17.41 7.96l-1.37-1.37c-.4-.4-.92-.59-1.43-.59-.52 0-1.04.2-1.43.59L10.3 9.45l-7.72 7.72c-.78.78-.78 2.05 0 2.83L4 21.41c.39.39.9.59 1.41.59.51 0 1.02-.2 1.41-.59l7.78-7.78 2.81-2.81c.8-.78.8-2.07 0-2.86zM5.41 20L4 18.59l7.72-7.72 1.47 1.35L5.41 20z\"/>\n",
              "  </svg>\n",
              "      </button>\n",
              "      \n",
              "  <style>\n",
              "    .colab-df-container {\n",
              "      display:flex;\n",
              "      flex-wrap:wrap;\n",
              "      gap: 12px;\n",
              "    }\n",
              "\n",
              "    .colab-df-convert {\n",
              "      background-color: #E8F0FE;\n",
              "      border: none;\n",
              "      border-radius: 50%;\n",
              "      cursor: pointer;\n",
              "      display: none;\n",
              "      fill: #1967D2;\n",
              "      height: 32px;\n",
              "      padding: 0 0 0 0;\n",
              "      width: 32px;\n",
              "    }\n",
              "\n",
              "    .colab-df-convert:hover {\n",
              "      background-color: #E2EBFA;\n",
              "      box-shadow: 0px 1px 2px rgba(60, 64, 67, 0.3), 0px 1px 3px 1px rgba(60, 64, 67, 0.15);\n",
              "      fill: #174EA6;\n",
              "    }\n",
              "\n",
              "    [theme=dark] .colab-df-convert {\n",
              "      background-color: #3B4455;\n",
              "      fill: #D2E3FC;\n",
              "    }\n",
              "\n",
              "    [theme=dark] .colab-df-convert:hover {\n",
              "      background-color: #434B5C;\n",
              "      box-shadow: 0px 1px 3px 1px rgba(0, 0, 0, 0.15);\n",
              "      filter: drop-shadow(0px 1px 2px rgba(0, 0, 0, 0.3));\n",
              "      fill: #FFFFFF;\n",
              "    }\n",
              "  </style>\n",
              "\n",
              "      <script>\n",
              "        const buttonEl =\n",
              "          document.querySelector('#df-96388d35-ce93-435c-8b64-61adbd2b85d2 button.colab-df-convert');\n",
              "        buttonEl.style.display =\n",
              "          google.colab.kernel.accessAllowed ? 'block' : 'none';\n",
              "\n",
              "        async function convertToInteractive(key) {\n",
              "          const element = document.querySelector('#df-96388d35-ce93-435c-8b64-61adbd2b85d2');\n",
              "          const dataTable =\n",
              "            await google.colab.kernel.invokeFunction('convertToInteractive',\n",
              "                                                     [key], {});\n",
              "          if (!dataTable) return;\n",
              "\n",
              "          const docLinkHtml = 'Like what you see? Visit the ' +\n",
              "            '<a target=\"_blank\" href=https://colab.research.google.com/notebooks/data_table.ipynb>data table notebook</a>'\n",
              "            + ' to learn more about interactive tables.';\n",
              "          element.innerHTML = '';\n",
              "          dataTable['output_type'] = 'display_data';\n",
              "          await google.colab.output.renderOutput(dataTable, element);\n",
              "          const docLink = document.createElement('div');\n",
              "          docLink.innerHTML = docLinkHtml;\n",
              "          element.appendChild(docLink);\n",
              "        }\n",
              "      </script>\n",
              "    </div>\n",
              "  </div>\n",
              "  "
            ]
          },
          "metadata": {},
          "execution_count": 3
        }
      ]
    },
    {
      "cell_type": "code",
      "source": [
        "dataset"
      ],
      "metadata": {
        "colab": {
          "base_uri": "https://localhost:8080/",
          "height": 748
        },
        "id": "KA6J8z4Txve_",
        "outputId": "ea034bcd-01e0-4de0-9094-f4e2b36e951d"
      },
      "execution_count": 4,
      "outputs": [
        {
          "output_type": "execute_result",
          "data": {
            "text/plain": [
              "              Timestamp   Air_Temp  Relative_Humidity  Wind_Speed  \\\n",
              "0      27-04-2022 15:32  43.349172          12.790256    0.533333   \n",
              "1      27-04-2022 15:34  43.433980          11.468986    1.866667   \n",
              "2      27-04-2022 15:36  43.286580          11.047298    2.866667   \n",
              "3      27-04-2022 15:38  43.523020          12.058292    0.000000   \n",
              "4      27-04-2022 15:40  43.728656          10.722330    2.266667   \n",
              "...                 ...        ...                ...         ...   \n",
              "83188  22-08-2022 11:34  38.825308          75.717384    0.000000   \n",
              "83189  22-08-2022 11:36  41.741960          73.686968    1.933333   \n",
              "83190  22-08-2022 11:38  38.165820          74.830360    0.866667   \n",
              "83191  22-08-2022 11:40  38.194360          75.886256    0.000000   \n",
              "83192  22-08-2022 11:42  41.465416          72.354760    0.000000   \n",
              "\n",
              "      Wind_Direction Solar_Radiation       RTD_1      RTD_2      RTD_3  \\\n",
              "0          118.78662       707.53384   98.289640  94.283552  89.002824   \n",
              "1          84.681408       710.46328   98.377480  94.177872  89.334664   \n",
              "2          40.807156       695.51016   97.868064  93.703480  88.844592   \n",
              "3          66.390848       696.24472  101.470960  97.112320  91.963472   \n",
              "4           2.127408       674.05752  101.664240  97.253520  91.980872   \n",
              "...              ...             ...         ...        ...        ...   \n",
              "83188      132.66862       1260.6014   68.537032  63.832536  64.534020   \n",
              "83189      136.43066       548.94188   60.950032  57.285688  57.378756   \n",
              "83190      112.73886       1220.6572   70.153136  66.364708  65.804060   \n",
              "83191      135.62674       1166.5518   70.649480  66.554636  65.879448   \n",
              "83192       125.2897       428.21288   56.432920  54.232740  52.563352   \n",
              "\n",
              "           RTD_4      RTD_5  Array_Voltage  Array_Current  Power_Generated  \n",
              "0      93.334288  94.142984      80.178232       5.364869        430.14572  \n",
              "1      93.633208  94.107592      80.266728       5.366041        430.71452  \n",
              "2      92.982568  93.650656      80.187416       5.365501        430.24568  \n",
              "3      96.146384  97.147776      80.727760       5.364512        433.06504  \n",
              "4      96.110968  97.341296      80.500312       5.365144        431.89576  \n",
              "...          ...        ...            ...            ...              ...  \n",
              "83188  66.813148  68.069592      79.634064       5.377786        428.25496  \n",
              "83189  57.720880  59.574048      55.206604       5.386792        297.38650  \n",
              "83190  67.910632  69.128520      79.252616       5.376169        426.07540  \n",
              "83191  68.299304  69.706872      78.590624       5.376400        422.53456  \n",
              "83192  53.457652  55.575456      53.911696       5.388469        290.50152  \n",
              "\n",
              "[83193 rows x 14 columns]"
            ],
            "text/html": [
              "\n",
              "  <div id=\"df-737b502b-4e12-4e38-90e5-98638b2c3e55\">\n",
              "    <div class=\"colab-df-container\">\n",
              "      <div>\n",
              "<style scoped>\n",
              "    .dataframe tbody tr th:only-of-type {\n",
              "        vertical-align: middle;\n",
              "    }\n",
              "\n",
              "    .dataframe tbody tr th {\n",
              "        vertical-align: top;\n",
              "    }\n",
              "\n",
              "    .dataframe thead th {\n",
              "        text-align: right;\n",
              "    }\n",
              "</style>\n",
              "<table border=\"1\" class=\"dataframe\">\n",
              "  <thead>\n",
              "    <tr style=\"text-align: right;\">\n",
              "      <th></th>\n",
              "      <th>Timestamp</th>\n",
              "      <th>Air_Temp</th>\n",
              "      <th>Relative_Humidity</th>\n",
              "      <th>Wind_Speed</th>\n",
              "      <th>Wind_Direction</th>\n",
              "      <th>Solar_Radiation</th>\n",
              "      <th>RTD_1</th>\n",
              "      <th>RTD_2</th>\n",
              "      <th>RTD_3</th>\n",
              "      <th>RTD_4</th>\n",
              "      <th>RTD_5</th>\n",
              "      <th>Array_Voltage</th>\n",
              "      <th>Array_Current</th>\n",
              "      <th>Power_Generated</th>\n",
              "    </tr>\n",
              "  </thead>\n",
              "  <tbody>\n",
              "    <tr>\n",
              "      <th>0</th>\n",
              "      <td>27-04-2022 15:32</td>\n",
              "      <td>43.349172</td>\n",
              "      <td>12.790256</td>\n",
              "      <td>0.533333</td>\n",
              "      <td>118.78662</td>\n",
              "      <td>707.53384</td>\n",
              "      <td>98.289640</td>\n",
              "      <td>94.283552</td>\n",
              "      <td>89.002824</td>\n",
              "      <td>93.334288</td>\n",
              "      <td>94.142984</td>\n",
              "      <td>80.178232</td>\n",
              "      <td>5.364869</td>\n",
              "      <td>430.14572</td>\n",
              "    </tr>\n",
              "    <tr>\n",
              "      <th>1</th>\n",
              "      <td>27-04-2022 15:34</td>\n",
              "      <td>43.433980</td>\n",
              "      <td>11.468986</td>\n",
              "      <td>1.866667</td>\n",
              "      <td>84.681408</td>\n",
              "      <td>710.46328</td>\n",
              "      <td>98.377480</td>\n",
              "      <td>94.177872</td>\n",
              "      <td>89.334664</td>\n",
              "      <td>93.633208</td>\n",
              "      <td>94.107592</td>\n",
              "      <td>80.266728</td>\n",
              "      <td>5.366041</td>\n",
              "      <td>430.71452</td>\n",
              "    </tr>\n",
              "    <tr>\n",
              "      <th>2</th>\n",
              "      <td>27-04-2022 15:36</td>\n",
              "      <td>43.286580</td>\n",
              "      <td>11.047298</td>\n",
              "      <td>2.866667</td>\n",
              "      <td>40.807156</td>\n",
              "      <td>695.51016</td>\n",
              "      <td>97.868064</td>\n",
              "      <td>93.703480</td>\n",
              "      <td>88.844592</td>\n",
              "      <td>92.982568</td>\n",
              "      <td>93.650656</td>\n",
              "      <td>80.187416</td>\n",
              "      <td>5.365501</td>\n",
              "      <td>430.24568</td>\n",
              "    </tr>\n",
              "    <tr>\n",
              "      <th>3</th>\n",
              "      <td>27-04-2022 15:38</td>\n",
              "      <td>43.523020</td>\n",
              "      <td>12.058292</td>\n",
              "      <td>0.000000</td>\n",
              "      <td>66.390848</td>\n",
              "      <td>696.24472</td>\n",
              "      <td>101.470960</td>\n",
              "      <td>97.112320</td>\n",
              "      <td>91.963472</td>\n",
              "      <td>96.146384</td>\n",
              "      <td>97.147776</td>\n",
              "      <td>80.727760</td>\n",
              "      <td>5.364512</td>\n",
              "      <td>433.06504</td>\n",
              "    </tr>\n",
              "    <tr>\n",
              "      <th>4</th>\n",
              "      <td>27-04-2022 15:40</td>\n",
              "      <td>43.728656</td>\n",
              "      <td>10.722330</td>\n",
              "      <td>2.266667</td>\n",
              "      <td>2.127408</td>\n",
              "      <td>674.05752</td>\n",
              "      <td>101.664240</td>\n",
              "      <td>97.253520</td>\n",
              "      <td>91.980872</td>\n",
              "      <td>96.110968</td>\n",
              "      <td>97.341296</td>\n",
              "      <td>80.500312</td>\n",
              "      <td>5.365144</td>\n",
              "      <td>431.89576</td>\n",
              "    </tr>\n",
              "    <tr>\n",
              "      <th>...</th>\n",
              "      <td>...</td>\n",
              "      <td>...</td>\n",
              "      <td>...</td>\n",
              "      <td>...</td>\n",
              "      <td>...</td>\n",
              "      <td>...</td>\n",
              "      <td>...</td>\n",
              "      <td>...</td>\n",
              "      <td>...</td>\n",
              "      <td>...</td>\n",
              "      <td>...</td>\n",
              "      <td>...</td>\n",
              "      <td>...</td>\n",
              "      <td>...</td>\n",
              "    </tr>\n",
              "    <tr>\n",
              "      <th>83188</th>\n",
              "      <td>22-08-2022 11:34</td>\n",
              "      <td>38.825308</td>\n",
              "      <td>75.717384</td>\n",
              "      <td>0.000000</td>\n",
              "      <td>132.66862</td>\n",
              "      <td>1260.6014</td>\n",
              "      <td>68.537032</td>\n",
              "      <td>63.832536</td>\n",
              "      <td>64.534020</td>\n",
              "      <td>66.813148</td>\n",
              "      <td>68.069592</td>\n",
              "      <td>79.634064</td>\n",
              "      <td>5.377786</td>\n",
              "      <td>428.25496</td>\n",
              "    </tr>\n",
              "    <tr>\n",
              "      <th>83189</th>\n",
              "      <td>22-08-2022 11:36</td>\n",
              "      <td>41.741960</td>\n",
              "      <td>73.686968</td>\n",
              "      <td>1.933333</td>\n",
              "      <td>136.43066</td>\n",
              "      <td>548.94188</td>\n",
              "      <td>60.950032</td>\n",
              "      <td>57.285688</td>\n",
              "      <td>57.378756</td>\n",
              "      <td>57.720880</td>\n",
              "      <td>59.574048</td>\n",
              "      <td>55.206604</td>\n",
              "      <td>5.386792</td>\n",
              "      <td>297.38650</td>\n",
              "    </tr>\n",
              "    <tr>\n",
              "      <th>83190</th>\n",
              "      <td>22-08-2022 11:38</td>\n",
              "      <td>38.165820</td>\n",
              "      <td>74.830360</td>\n",
              "      <td>0.866667</td>\n",
              "      <td>112.73886</td>\n",
              "      <td>1220.6572</td>\n",
              "      <td>70.153136</td>\n",
              "      <td>66.364708</td>\n",
              "      <td>65.804060</td>\n",
              "      <td>67.910632</td>\n",
              "      <td>69.128520</td>\n",
              "      <td>79.252616</td>\n",
              "      <td>5.376169</td>\n",
              "      <td>426.07540</td>\n",
              "    </tr>\n",
              "    <tr>\n",
              "      <th>83191</th>\n",
              "      <td>22-08-2022 11:40</td>\n",
              "      <td>38.194360</td>\n",
              "      <td>75.886256</td>\n",
              "      <td>0.000000</td>\n",
              "      <td>135.62674</td>\n",
              "      <td>1166.5518</td>\n",
              "      <td>70.649480</td>\n",
              "      <td>66.554636</td>\n",
              "      <td>65.879448</td>\n",
              "      <td>68.299304</td>\n",
              "      <td>69.706872</td>\n",
              "      <td>78.590624</td>\n",
              "      <td>5.376400</td>\n",
              "      <td>422.53456</td>\n",
              "    </tr>\n",
              "    <tr>\n",
              "      <th>83192</th>\n",
              "      <td>22-08-2022 11:42</td>\n",
              "      <td>41.465416</td>\n",
              "      <td>72.354760</td>\n",
              "      <td>0.000000</td>\n",
              "      <td>125.2897</td>\n",
              "      <td>428.21288</td>\n",
              "      <td>56.432920</td>\n",
              "      <td>54.232740</td>\n",
              "      <td>52.563352</td>\n",
              "      <td>53.457652</td>\n",
              "      <td>55.575456</td>\n",
              "      <td>53.911696</td>\n",
              "      <td>5.388469</td>\n",
              "      <td>290.50152</td>\n",
              "    </tr>\n",
              "  </tbody>\n",
              "</table>\n",
              "<p>83193 rows × 14 columns</p>\n",
              "</div>\n",
              "      <button class=\"colab-df-convert\" onclick=\"convertToInteractive('df-737b502b-4e12-4e38-90e5-98638b2c3e55')\"\n",
              "              title=\"Convert this dataframe to an interactive table.\"\n",
              "              style=\"display:none;\">\n",
              "        \n",
              "  <svg xmlns=\"http://www.w3.org/2000/svg\" height=\"24px\"viewBox=\"0 0 24 24\"\n",
              "       width=\"24px\">\n",
              "    <path d=\"M0 0h24v24H0V0z\" fill=\"none\"/>\n",
              "    <path d=\"M18.56 5.44l.94 2.06.94-2.06 2.06-.94-2.06-.94-.94-2.06-.94 2.06-2.06.94zm-11 1L8.5 8.5l.94-2.06 2.06-.94-2.06-.94L8.5 2.5l-.94 2.06-2.06.94zm10 10l.94 2.06.94-2.06 2.06-.94-2.06-.94-.94-2.06-.94 2.06-2.06.94z\"/><path d=\"M17.41 7.96l-1.37-1.37c-.4-.4-.92-.59-1.43-.59-.52 0-1.04.2-1.43.59L10.3 9.45l-7.72 7.72c-.78.78-.78 2.05 0 2.83L4 21.41c.39.39.9.59 1.41.59.51 0 1.02-.2 1.41-.59l7.78-7.78 2.81-2.81c.8-.78.8-2.07 0-2.86zM5.41 20L4 18.59l7.72-7.72 1.47 1.35L5.41 20z\"/>\n",
              "  </svg>\n",
              "      </button>\n",
              "      \n",
              "  <style>\n",
              "    .colab-df-container {\n",
              "      display:flex;\n",
              "      flex-wrap:wrap;\n",
              "      gap: 12px;\n",
              "    }\n",
              "\n",
              "    .colab-df-convert {\n",
              "      background-color: #E8F0FE;\n",
              "      border: none;\n",
              "      border-radius: 50%;\n",
              "      cursor: pointer;\n",
              "      display: none;\n",
              "      fill: #1967D2;\n",
              "      height: 32px;\n",
              "      padding: 0 0 0 0;\n",
              "      width: 32px;\n",
              "    }\n",
              "\n",
              "    .colab-df-convert:hover {\n",
              "      background-color: #E2EBFA;\n",
              "      box-shadow: 0px 1px 2px rgba(60, 64, 67, 0.3), 0px 1px 3px 1px rgba(60, 64, 67, 0.15);\n",
              "      fill: #174EA6;\n",
              "    }\n",
              "\n",
              "    [theme=dark] .colab-df-convert {\n",
              "      background-color: #3B4455;\n",
              "      fill: #D2E3FC;\n",
              "    }\n",
              "\n",
              "    [theme=dark] .colab-df-convert:hover {\n",
              "      background-color: #434B5C;\n",
              "      box-shadow: 0px 1px 3px 1px rgba(0, 0, 0, 0.15);\n",
              "      filter: drop-shadow(0px 1px 2px rgba(0, 0, 0, 0.3));\n",
              "      fill: #FFFFFF;\n",
              "    }\n",
              "  </style>\n",
              "\n",
              "      <script>\n",
              "        const buttonEl =\n",
              "          document.querySelector('#df-737b502b-4e12-4e38-90e5-98638b2c3e55 button.colab-df-convert');\n",
              "        buttonEl.style.display =\n",
              "          google.colab.kernel.accessAllowed ? 'block' : 'none';\n",
              "\n",
              "        async function convertToInteractive(key) {\n",
              "          const element = document.querySelector('#df-737b502b-4e12-4e38-90e5-98638b2c3e55');\n",
              "          const dataTable =\n",
              "            await google.colab.kernel.invokeFunction('convertToInteractive',\n",
              "                                                     [key], {});\n",
              "          if (!dataTable) return;\n",
              "\n",
              "          const docLinkHtml = 'Like what you see? Visit the ' +\n",
              "            '<a target=\"_blank\" href=https://colab.research.google.com/notebooks/data_table.ipynb>data table notebook</a>'\n",
              "            + ' to learn more about interactive tables.';\n",
              "          element.innerHTML = '';\n",
              "          dataTable['output_type'] = 'display_data';\n",
              "          await google.colab.output.renderOutput(dataTable, element);\n",
              "          const docLink = document.createElement('div');\n",
              "          docLink.innerHTML = docLinkHtml;\n",
              "          element.appendChild(docLink);\n",
              "        }\n",
              "      </script>\n",
              "    </div>\n",
              "  </div>\n",
              "  "
            ]
          },
          "metadata": {},
          "execution_count": 4
        }
      ]
    },
    {
      "cell_type": "code",
      "source": [
        "# Making new dataset with only thousand rows\n",
        "main_dataset = dataset[:1000]"
      ],
      "metadata": {
        "id": "Ef00RNnpxQo_"
      },
      "execution_count": 5,
      "outputs": []
    },
    {
      "cell_type": "code",
      "source": [
        "# Looking in our new dataset\n",
        "main_dataset"
      ],
      "metadata": {
        "colab": {
          "base_uri": "https://localhost:8080/",
          "height": 835
        },
        "id": "vbHPUfOLxWIS",
        "outputId": "4da10445-3d38-4ddb-ee27-c8f7150ebe80"
      },
      "execution_count": 6,
      "outputs": [
        {
          "output_type": "execute_result",
          "data": {
            "text/plain": [
              "            Timestamp   Air_Temp  Relative_Humidity  Wind_Speed  \\\n",
              "0    27-04-2022 15:32  43.349172          12.790256    0.533333   \n",
              "1    27-04-2022 15:34  43.433980          11.468986    1.866667   \n",
              "2    27-04-2022 15:36  43.286580          11.047298    2.866667   \n",
              "3    27-04-2022 15:38  43.523020          12.058292    0.000000   \n",
              "4    27-04-2022 15:40  43.728656          10.722330    2.266667   \n",
              "..                ...        ...                ...         ...   \n",
              "995  29-04-2022 00:42  17.309460          41.074188    0.000000   \n",
              "996  29-04-2022 00:44  17.381072          41.515644    0.000000   \n",
              "997  29-04-2022 00:46  17.326680          41.815348    0.000000   \n",
              "998  29-04-2022 00:48  17.178078          41.223944    0.000000   \n",
              "999  29-04-2022 00:50  17.073242          42.403972    0.000000   \n",
              "\n",
              "    Wind_Direction Solar_Radiation       RTD_1      RTD_2      RTD_3  \\\n",
              "0        118.78662       707.53384   98.289640  94.283552  89.002824   \n",
              "1        84.681408       710.46328   98.377480  94.177872  89.334664   \n",
              "2        40.807156       695.51016   97.868064  93.703480  88.844592   \n",
              "3        66.390848       696.24472  101.470960  97.112320  91.963472   \n",
              "4         2.127408       674.05752  101.664240  97.253520  91.980872   \n",
              "..             ...             ...         ...        ...        ...   \n",
              "995       216.4891        0.109077   23.920030  25.268042  24.739016   \n",
              "996      219.14172        0.009956   23.976748  25.311902  24.775616   \n",
              "997      219.17426        0.109077   23.962048  25.301442  24.782970   \n",
              "998      219.16896       -0.041374   23.911632  25.261766  24.761010   \n",
              "999       219.0826       -0.092705   23.888504  25.245064  24.739016   \n",
              "\n",
              "         RTD_4      RTD_5  Array_Voltage  Array_Current  Power_Generated  \n",
              "0    93.334288  94.142984      80.178232       5.364869       430.145720  \n",
              "1    93.633208  94.107592      80.266728       5.366041       430.714520  \n",
              "2    92.982568  93.650656      80.187416       5.365501       430.245680  \n",
              "3    96.146384  97.147776      80.727760       5.364512       433.065040  \n",
              "4    96.110968  97.341296      80.500312       5.365144       431.895760  \n",
              "..         ...        ...            ...            ...              ...  \n",
              "995  24.635356  24.877156       2.812084       5.398870        15.182076  \n",
              "996  24.663656  24.932548       2.817272       5.399050        15.210592  \n",
              "997  24.658396  24.898070       2.820355       5.399227        15.227734  \n",
              "998  24.639572  24.831108       2.812084       5.398870        15.182076  \n",
              "999  24.626992  24.816466       2.824444       5.398961        15.249064  \n",
              "\n",
              "[1000 rows x 14 columns]"
            ],
            "text/html": [
              "\n",
              "  <div id=\"df-6afc9a6c-942b-40dc-bdf5-dee0e4d0278f\">\n",
              "    <div class=\"colab-df-container\">\n",
              "      <div>\n",
              "<style scoped>\n",
              "    .dataframe tbody tr th:only-of-type {\n",
              "        vertical-align: middle;\n",
              "    }\n",
              "\n",
              "    .dataframe tbody tr th {\n",
              "        vertical-align: top;\n",
              "    }\n",
              "\n",
              "    .dataframe thead th {\n",
              "        text-align: right;\n",
              "    }\n",
              "</style>\n",
              "<table border=\"1\" class=\"dataframe\">\n",
              "  <thead>\n",
              "    <tr style=\"text-align: right;\">\n",
              "      <th></th>\n",
              "      <th>Timestamp</th>\n",
              "      <th>Air_Temp</th>\n",
              "      <th>Relative_Humidity</th>\n",
              "      <th>Wind_Speed</th>\n",
              "      <th>Wind_Direction</th>\n",
              "      <th>Solar_Radiation</th>\n",
              "      <th>RTD_1</th>\n",
              "      <th>RTD_2</th>\n",
              "      <th>RTD_3</th>\n",
              "      <th>RTD_4</th>\n",
              "      <th>RTD_5</th>\n",
              "      <th>Array_Voltage</th>\n",
              "      <th>Array_Current</th>\n",
              "      <th>Power_Generated</th>\n",
              "    </tr>\n",
              "  </thead>\n",
              "  <tbody>\n",
              "    <tr>\n",
              "      <th>0</th>\n",
              "      <td>27-04-2022 15:32</td>\n",
              "      <td>43.349172</td>\n",
              "      <td>12.790256</td>\n",
              "      <td>0.533333</td>\n",
              "      <td>118.78662</td>\n",
              "      <td>707.53384</td>\n",
              "      <td>98.289640</td>\n",
              "      <td>94.283552</td>\n",
              "      <td>89.002824</td>\n",
              "      <td>93.334288</td>\n",
              "      <td>94.142984</td>\n",
              "      <td>80.178232</td>\n",
              "      <td>5.364869</td>\n",
              "      <td>430.145720</td>\n",
              "    </tr>\n",
              "    <tr>\n",
              "      <th>1</th>\n",
              "      <td>27-04-2022 15:34</td>\n",
              "      <td>43.433980</td>\n",
              "      <td>11.468986</td>\n",
              "      <td>1.866667</td>\n",
              "      <td>84.681408</td>\n",
              "      <td>710.46328</td>\n",
              "      <td>98.377480</td>\n",
              "      <td>94.177872</td>\n",
              "      <td>89.334664</td>\n",
              "      <td>93.633208</td>\n",
              "      <td>94.107592</td>\n",
              "      <td>80.266728</td>\n",
              "      <td>5.366041</td>\n",
              "      <td>430.714520</td>\n",
              "    </tr>\n",
              "    <tr>\n",
              "      <th>2</th>\n",
              "      <td>27-04-2022 15:36</td>\n",
              "      <td>43.286580</td>\n",
              "      <td>11.047298</td>\n",
              "      <td>2.866667</td>\n",
              "      <td>40.807156</td>\n",
              "      <td>695.51016</td>\n",
              "      <td>97.868064</td>\n",
              "      <td>93.703480</td>\n",
              "      <td>88.844592</td>\n",
              "      <td>92.982568</td>\n",
              "      <td>93.650656</td>\n",
              "      <td>80.187416</td>\n",
              "      <td>5.365501</td>\n",
              "      <td>430.245680</td>\n",
              "    </tr>\n",
              "    <tr>\n",
              "      <th>3</th>\n",
              "      <td>27-04-2022 15:38</td>\n",
              "      <td>43.523020</td>\n",
              "      <td>12.058292</td>\n",
              "      <td>0.000000</td>\n",
              "      <td>66.390848</td>\n",
              "      <td>696.24472</td>\n",
              "      <td>101.470960</td>\n",
              "      <td>97.112320</td>\n",
              "      <td>91.963472</td>\n",
              "      <td>96.146384</td>\n",
              "      <td>97.147776</td>\n",
              "      <td>80.727760</td>\n",
              "      <td>5.364512</td>\n",
              "      <td>433.065040</td>\n",
              "    </tr>\n",
              "    <tr>\n",
              "      <th>4</th>\n",
              "      <td>27-04-2022 15:40</td>\n",
              "      <td>43.728656</td>\n",
              "      <td>10.722330</td>\n",
              "      <td>2.266667</td>\n",
              "      <td>2.127408</td>\n",
              "      <td>674.05752</td>\n",
              "      <td>101.664240</td>\n",
              "      <td>97.253520</td>\n",
              "      <td>91.980872</td>\n",
              "      <td>96.110968</td>\n",
              "      <td>97.341296</td>\n",
              "      <td>80.500312</td>\n",
              "      <td>5.365144</td>\n",
              "      <td>431.895760</td>\n",
              "    </tr>\n",
              "    <tr>\n",
              "      <th>...</th>\n",
              "      <td>...</td>\n",
              "      <td>...</td>\n",
              "      <td>...</td>\n",
              "      <td>...</td>\n",
              "      <td>...</td>\n",
              "      <td>...</td>\n",
              "      <td>...</td>\n",
              "      <td>...</td>\n",
              "      <td>...</td>\n",
              "      <td>...</td>\n",
              "      <td>...</td>\n",
              "      <td>...</td>\n",
              "      <td>...</td>\n",
              "      <td>...</td>\n",
              "    </tr>\n",
              "    <tr>\n",
              "      <th>995</th>\n",
              "      <td>29-04-2022 00:42</td>\n",
              "      <td>17.309460</td>\n",
              "      <td>41.074188</td>\n",
              "      <td>0.000000</td>\n",
              "      <td>216.4891</td>\n",
              "      <td>0.109077</td>\n",
              "      <td>23.920030</td>\n",
              "      <td>25.268042</td>\n",
              "      <td>24.739016</td>\n",
              "      <td>24.635356</td>\n",
              "      <td>24.877156</td>\n",
              "      <td>2.812084</td>\n",
              "      <td>5.398870</td>\n",
              "      <td>15.182076</td>\n",
              "    </tr>\n",
              "    <tr>\n",
              "      <th>996</th>\n",
              "      <td>29-04-2022 00:44</td>\n",
              "      <td>17.381072</td>\n",
              "      <td>41.515644</td>\n",
              "      <td>0.000000</td>\n",
              "      <td>219.14172</td>\n",
              "      <td>0.009956</td>\n",
              "      <td>23.976748</td>\n",
              "      <td>25.311902</td>\n",
              "      <td>24.775616</td>\n",
              "      <td>24.663656</td>\n",
              "      <td>24.932548</td>\n",
              "      <td>2.817272</td>\n",
              "      <td>5.399050</td>\n",
              "      <td>15.210592</td>\n",
              "    </tr>\n",
              "    <tr>\n",
              "      <th>997</th>\n",
              "      <td>29-04-2022 00:46</td>\n",
              "      <td>17.326680</td>\n",
              "      <td>41.815348</td>\n",
              "      <td>0.000000</td>\n",
              "      <td>219.17426</td>\n",
              "      <td>0.109077</td>\n",
              "      <td>23.962048</td>\n",
              "      <td>25.301442</td>\n",
              "      <td>24.782970</td>\n",
              "      <td>24.658396</td>\n",
              "      <td>24.898070</td>\n",
              "      <td>2.820355</td>\n",
              "      <td>5.399227</td>\n",
              "      <td>15.227734</td>\n",
              "    </tr>\n",
              "    <tr>\n",
              "      <th>998</th>\n",
              "      <td>29-04-2022 00:48</td>\n",
              "      <td>17.178078</td>\n",
              "      <td>41.223944</td>\n",
              "      <td>0.000000</td>\n",
              "      <td>219.16896</td>\n",
              "      <td>-0.041374</td>\n",
              "      <td>23.911632</td>\n",
              "      <td>25.261766</td>\n",
              "      <td>24.761010</td>\n",
              "      <td>24.639572</td>\n",
              "      <td>24.831108</td>\n",
              "      <td>2.812084</td>\n",
              "      <td>5.398870</td>\n",
              "      <td>15.182076</td>\n",
              "    </tr>\n",
              "    <tr>\n",
              "      <th>999</th>\n",
              "      <td>29-04-2022 00:50</td>\n",
              "      <td>17.073242</td>\n",
              "      <td>42.403972</td>\n",
              "      <td>0.000000</td>\n",
              "      <td>219.0826</td>\n",
              "      <td>-0.092705</td>\n",
              "      <td>23.888504</td>\n",
              "      <td>25.245064</td>\n",
              "      <td>24.739016</td>\n",
              "      <td>24.626992</td>\n",
              "      <td>24.816466</td>\n",
              "      <td>2.824444</td>\n",
              "      <td>5.398961</td>\n",
              "      <td>15.249064</td>\n",
              "    </tr>\n",
              "  </tbody>\n",
              "</table>\n",
              "<p>1000 rows × 14 columns</p>\n",
              "</div>\n",
              "      <button class=\"colab-df-convert\" onclick=\"convertToInteractive('df-6afc9a6c-942b-40dc-bdf5-dee0e4d0278f')\"\n",
              "              title=\"Convert this dataframe to an interactive table.\"\n",
              "              style=\"display:none;\">\n",
              "        \n",
              "  <svg xmlns=\"http://www.w3.org/2000/svg\" height=\"24px\"viewBox=\"0 0 24 24\"\n",
              "       width=\"24px\">\n",
              "    <path d=\"M0 0h24v24H0V0z\" fill=\"none\"/>\n",
              "    <path d=\"M18.56 5.44l.94 2.06.94-2.06 2.06-.94-2.06-.94-.94-2.06-.94 2.06-2.06.94zm-11 1L8.5 8.5l.94-2.06 2.06-.94-2.06-.94L8.5 2.5l-.94 2.06-2.06.94zm10 10l.94 2.06.94-2.06 2.06-.94-2.06-.94-.94-2.06-.94 2.06-2.06.94z\"/><path d=\"M17.41 7.96l-1.37-1.37c-.4-.4-.92-.59-1.43-.59-.52 0-1.04.2-1.43.59L10.3 9.45l-7.72 7.72c-.78.78-.78 2.05 0 2.83L4 21.41c.39.39.9.59 1.41.59.51 0 1.02-.2 1.41-.59l7.78-7.78 2.81-2.81c.8-.78.8-2.07 0-2.86zM5.41 20L4 18.59l7.72-7.72 1.47 1.35L5.41 20z\"/>\n",
              "  </svg>\n",
              "      </button>\n",
              "      \n",
              "  <style>\n",
              "    .colab-df-container {\n",
              "      display:flex;\n",
              "      flex-wrap:wrap;\n",
              "      gap: 12px;\n",
              "    }\n",
              "\n",
              "    .colab-df-convert {\n",
              "      background-color: #E8F0FE;\n",
              "      border: none;\n",
              "      border-radius: 50%;\n",
              "      cursor: pointer;\n",
              "      display: none;\n",
              "      fill: #1967D2;\n",
              "      height: 32px;\n",
              "      padding: 0 0 0 0;\n",
              "      width: 32px;\n",
              "    }\n",
              "\n",
              "    .colab-df-convert:hover {\n",
              "      background-color: #E2EBFA;\n",
              "      box-shadow: 0px 1px 2px rgba(60, 64, 67, 0.3), 0px 1px 3px 1px rgba(60, 64, 67, 0.15);\n",
              "      fill: #174EA6;\n",
              "    }\n",
              "\n",
              "    [theme=dark] .colab-df-convert {\n",
              "      background-color: #3B4455;\n",
              "      fill: #D2E3FC;\n",
              "    }\n",
              "\n",
              "    [theme=dark] .colab-df-convert:hover {\n",
              "      background-color: #434B5C;\n",
              "      box-shadow: 0px 1px 3px 1px rgba(0, 0, 0, 0.15);\n",
              "      filter: drop-shadow(0px 1px 2px rgba(0, 0, 0, 0.3));\n",
              "      fill: #FFFFFF;\n",
              "    }\n",
              "  </style>\n",
              "\n",
              "      <script>\n",
              "        const buttonEl =\n",
              "          document.querySelector('#df-6afc9a6c-942b-40dc-bdf5-dee0e4d0278f button.colab-df-convert');\n",
              "        buttonEl.style.display =\n",
              "          google.colab.kernel.accessAllowed ? 'block' : 'none';\n",
              "\n",
              "        async function convertToInteractive(key) {\n",
              "          const element = document.querySelector('#df-6afc9a6c-942b-40dc-bdf5-dee0e4d0278f');\n",
              "          const dataTable =\n",
              "            await google.colab.kernel.invokeFunction('convertToInteractive',\n",
              "                                                     [key], {});\n",
              "          if (!dataTable) return;\n",
              "\n",
              "          const docLinkHtml = 'Like what you see? Visit the ' +\n",
              "            '<a target=\"_blank\" href=https://colab.research.google.com/notebooks/data_table.ipynb>data table notebook</a>'\n",
              "            + ' to learn more about interactive tables.';\n",
              "          element.innerHTML = '';\n",
              "          dataTable['output_type'] = 'display_data';\n",
              "          await google.colab.output.renderOutput(dataTable, element);\n",
              "          const docLink = document.createElement('div');\n",
              "          docLink.innerHTML = docLinkHtml;\n",
              "          element.appendChild(docLink);\n",
              "        }\n",
              "      </script>\n",
              "    </div>\n",
              "  </div>\n",
              "  "
            ]
          },
          "metadata": {},
          "execution_count": 6
        }
      ]
    },
    {
      "cell_type": "code",
      "source": [
        "main_dataset.shape"
      ],
      "metadata": {
        "colab": {
          "base_uri": "https://localhost:8080/"
        },
        "id": "ooAKolffK7BU",
        "outputId": "0ba930b5-2ade-4fcf-f7e0-ecdd73b4c485"
      },
      "execution_count": 7,
      "outputs": [
        {
          "output_type": "execute_result",
          "data": {
            "text/plain": [
              "(1000, 14)"
            ]
          },
          "metadata": {},
          "execution_count": 7
        }
      ]
    },
    {
      "cell_type": "code",
      "source": [
        "main_dataset.info()"
      ],
      "metadata": {
        "colab": {
          "base_uri": "https://localhost:8080/"
        },
        "id": "w2j2ID6WLAwb",
        "outputId": "dcb61ae9-3e8e-45f8-b56f-6acda7bd85b0"
      },
      "execution_count": 8,
      "outputs": [
        {
          "output_type": "stream",
          "name": "stdout",
          "text": [
            "<class 'pandas.core.frame.DataFrame'>\n",
            "RangeIndex: 1000 entries, 0 to 999\n",
            "Data columns (total 14 columns):\n",
            " #   Column             Non-Null Count  Dtype  \n",
            "---  ------             --------------  -----  \n",
            " 0   Timestamp          1000 non-null   object \n",
            " 1   Air_Temp           1000 non-null   float64\n",
            " 2   Relative_Humidity  1000 non-null   float64\n",
            " 3   Wind_Speed         1000 non-null   float64\n",
            " 4   Wind_Direction     1000 non-null   object \n",
            " 5   Solar_Radiation    1000 non-null   object \n",
            " 6   RTD_1              1000 non-null   float64\n",
            " 7   RTD_2              1000 non-null   float64\n",
            " 8   RTD_3              1000 non-null   float64\n",
            " 9   RTD_4              1000 non-null   float64\n",
            " 10  RTD_5              1000 non-null   float64\n",
            " 11  Array_Voltage      1000 non-null   float64\n",
            " 12  Array_Current      1000 non-null   float64\n",
            " 13  Power_Generated    1000 non-null   float64\n",
            "dtypes: float64(11), object(3)\n",
            "memory usage: 109.5+ KB\n"
          ]
        }
      ]
    },
    {
      "cell_type": "code",
      "source": [
        "# Now deleting the un-needed rows\n",
        "timestamp = main_dataset.pop(\"Timestamp\")\n",
        "winddirection = main_dataset.pop(\"Wind_Direction\")\n",
        "solarradi = main_dataset.pop(\"Solar_Radiation\")"
      ],
      "metadata": {
        "id": "su-v0e6VLEAk"
      },
      "execution_count": 9,
      "outputs": []
    },
    {
      "cell_type": "code",
      "source": [
        "main_dataset.info()"
      ],
      "metadata": {
        "colab": {
          "base_uri": "https://localhost:8080/"
        },
        "id": "rZyUReQGLTaK",
        "outputId": "89f6e741-6e63-441c-92fe-e9e329a41406"
      },
      "execution_count": 10,
      "outputs": [
        {
          "output_type": "stream",
          "name": "stdout",
          "text": [
            "<class 'pandas.core.frame.DataFrame'>\n",
            "RangeIndex: 1000 entries, 0 to 999\n",
            "Data columns (total 11 columns):\n",
            " #   Column             Non-Null Count  Dtype  \n",
            "---  ------             --------------  -----  \n",
            " 0   Air_Temp           1000 non-null   float64\n",
            " 1   Relative_Humidity  1000 non-null   float64\n",
            " 2   Wind_Speed         1000 non-null   float64\n",
            " 3   RTD_1              1000 non-null   float64\n",
            " 4   RTD_2              1000 non-null   float64\n",
            " 5   RTD_3              1000 non-null   float64\n",
            " 6   RTD_4              1000 non-null   float64\n",
            " 7   RTD_5              1000 non-null   float64\n",
            " 8   Array_Voltage      1000 non-null   float64\n",
            " 9   Array_Current      1000 non-null   float64\n",
            " 10  Power_Generated    1000 non-null   float64\n",
            "dtypes: float64(11)\n",
            "memory usage: 86.1 KB\n"
          ]
        }
      ]
    },
    {
      "cell_type": "code",
      "source": [
        "# Normalizing the data\n",
        "from sklearn.preprocessing import StandardScaler\n",
        "scaler= StandardScaler()\n",
        "\n",
        "numericals = ['Air_Temp','Relative_Humidity','Wind_Speed','RTD_1','RTD_2','RTD_3','RTD_4','RTD_5','Array_Voltage','Array_Current','Power_Generated']\n",
        "\n",
        "main_dataset[numericals] = scaler.fit_transform(main_dataset[numericals])"
      ],
      "metadata": {
        "id": "vsaA9xLSgHkB",
        "colab": {
          "base_uri": "https://localhost:8080/"
        },
        "outputId": "c114b3a4-96c7-4459-c07e-84fe14752f91"
      },
      "execution_count": 11,
      "outputs": [
        {
          "output_type": "stream",
          "name": "stderr",
          "text": [
            "/usr/local/lib/python3.7/dist-packages/pandas/core/frame.py:3678: SettingWithCopyWarning: \n",
            "A value is trying to be set on a copy of a slice from a DataFrame.\n",
            "Try using .loc[row_indexer,col_indexer] = value instead\n",
            "\n",
            "See the caveats in the documentation: https://pandas.pydata.org/pandas-docs/stable/user_guide/indexing.html#returning-a-view-versus-a-copy\n",
            "  self[col] = igetitem(value, i)\n"
          ]
        }
      ]
    },
    {
      "cell_type": "code",
      "source": [
        "main_dataset.info()"
      ],
      "metadata": {
        "colab": {
          "base_uri": "https://localhost:8080/"
        },
        "id": "h9Z3kVr_LZMC",
        "outputId": "db78f8c0-bf7f-47dd-f1c2-706953107b23"
      },
      "execution_count": 12,
      "outputs": [
        {
          "output_type": "stream",
          "name": "stdout",
          "text": [
            "<class 'pandas.core.frame.DataFrame'>\n",
            "RangeIndex: 1000 entries, 0 to 999\n",
            "Data columns (total 11 columns):\n",
            " #   Column             Non-Null Count  Dtype  \n",
            "---  ------             --------------  -----  \n",
            " 0   Air_Temp           1000 non-null   float64\n",
            " 1   Relative_Humidity  1000 non-null   float64\n",
            " 2   Wind_Speed         1000 non-null   float64\n",
            " 3   RTD_1              1000 non-null   float64\n",
            " 4   RTD_2              1000 non-null   float64\n",
            " 5   RTD_3              1000 non-null   float64\n",
            " 6   RTD_4              1000 non-null   float64\n",
            " 7   RTD_5              1000 non-null   float64\n",
            " 8   Array_Voltage      1000 non-null   float64\n",
            " 9   Array_Current      1000 non-null   float64\n",
            " 10  Power_Generated    1000 non-null   float64\n",
            "dtypes: float64(11)\n",
            "memory usage: 86.1 KB\n"
          ]
        }
      ]
    },
    {
      "cell_type": "code",
      "source": [
        "main_dataset.head(10)"
      ],
      "metadata": {
        "colab": {
          "base_uri": "https://localhost:8080/",
          "height": 363
        },
        "id": "NpI_E6HHgsq1",
        "outputId": "87cfef07-a9ab-4286-a5ce-b5e1abf05f5e"
      },
      "execution_count": 13,
      "outputs": [
        {
          "output_type": "execute_result",
          "data": {
            "text/plain": [
              "   Air_Temp  Relative_Humidity  Wind_Speed     RTD_1     RTD_2     RTD_3  \\\n",
              "0  1.564816          -1.534192    0.807433  1.495782  1.487779  1.401890   \n",
              "1  1.572223          -1.641332    3.865896  1.498363  1.484444  1.412694   \n",
              "2  1.559349          -1.675526    6.159742  1.483398  1.469471  1.396738   \n",
              "3  1.580000          -1.593546   -0.415951  1.589236  1.577059  1.498284   \n",
              "4  1.597961          -1.701878    4.783434  1.594914  1.581515  1.498851   \n",
              "5  1.594201          -1.618036    2.336664  1.588724  1.583735  1.504025   \n",
              "6  1.576600          -1.690795    1.724971  1.589749  1.587592  1.491993   \n",
              "7  1.628923          -1.620268    2.336664  1.704364  1.748469  1.706546   \n",
              "8  1.621609          -1.618413    4.936358  1.688357  1.731269  1.676221   \n",
              "9  1.607329          -1.617847    2.030819  1.680104  1.710729  1.664787   \n",
              "\n",
              "      RTD_4     RTD_5  Array_Voltage  Array_Current  Power_Generated  \n",
              "0  1.451999  1.462052       1.477685      -1.011010         1.477082  \n",
              "1  1.461340  1.460950       1.480540      -0.948546         1.480504  \n",
              "2  1.441008  1.446726       1.477981      -0.977326         1.477683  \n",
              "3  1.539873  1.555589       1.495418      -1.030037         1.494647  \n",
              "4  1.538767  1.561613       1.488078      -0.996353         1.487612  \n",
              "5  1.540419  1.567623       1.484742      -1.068411         1.483620  \n",
              "6  1.537116  1.551754       1.491521      -1.125972         1.489876  \n",
              "7  1.688689  1.702744       1.529339      -1.125972         1.527692  \n",
              "8  1.677705  1.693431       1.522572      -1.130875         1.520880  \n",
              "9  1.665612  1.674855       1.520259      -1.150062         1.518391  "
            ],
            "text/html": [
              "\n",
              "  <div id=\"df-b067411c-ef03-43cf-b021-11e27892fa4a\">\n",
              "    <div class=\"colab-df-container\">\n",
              "      <div>\n",
              "<style scoped>\n",
              "    .dataframe tbody tr th:only-of-type {\n",
              "        vertical-align: middle;\n",
              "    }\n",
              "\n",
              "    .dataframe tbody tr th {\n",
              "        vertical-align: top;\n",
              "    }\n",
              "\n",
              "    .dataframe thead th {\n",
              "        text-align: right;\n",
              "    }\n",
              "</style>\n",
              "<table border=\"1\" class=\"dataframe\">\n",
              "  <thead>\n",
              "    <tr style=\"text-align: right;\">\n",
              "      <th></th>\n",
              "      <th>Air_Temp</th>\n",
              "      <th>Relative_Humidity</th>\n",
              "      <th>Wind_Speed</th>\n",
              "      <th>RTD_1</th>\n",
              "      <th>RTD_2</th>\n",
              "      <th>RTD_3</th>\n",
              "      <th>RTD_4</th>\n",
              "      <th>RTD_5</th>\n",
              "      <th>Array_Voltage</th>\n",
              "      <th>Array_Current</th>\n",
              "      <th>Power_Generated</th>\n",
              "    </tr>\n",
              "  </thead>\n",
              "  <tbody>\n",
              "    <tr>\n",
              "      <th>0</th>\n",
              "      <td>1.564816</td>\n",
              "      <td>-1.534192</td>\n",
              "      <td>0.807433</td>\n",
              "      <td>1.495782</td>\n",
              "      <td>1.487779</td>\n",
              "      <td>1.401890</td>\n",
              "      <td>1.451999</td>\n",
              "      <td>1.462052</td>\n",
              "      <td>1.477685</td>\n",
              "      <td>-1.011010</td>\n",
              "      <td>1.477082</td>\n",
              "    </tr>\n",
              "    <tr>\n",
              "      <th>1</th>\n",
              "      <td>1.572223</td>\n",
              "      <td>-1.641332</td>\n",
              "      <td>3.865896</td>\n",
              "      <td>1.498363</td>\n",
              "      <td>1.484444</td>\n",
              "      <td>1.412694</td>\n",
              "      <td>1.461340</td>\n",
              "      <td>1.460950</td>\n",
              "      <td>1.480540</td>\n",
              "      <td>-0.948546</td>\n",
              "      <td>1.480504</td>\n",
              "    </tr>\n",
              "    <tr>\n",
              "      <th>2</th>\n",
              "      <td>1.559349</td>\n",
              "      <td>-1.675526</td>\n",
              "      <td>6.159742</td>\n",
              "      <td>1.483398</td>\n",
              "      <td>1.469471</td>\n",
              "      <td>1.396738</td>\n",
              "      <td>1.441008</td>\n",
              "      <td>1.446726</td>\n",
              "      <td>1.477981</td>\n",
              "      <td>-0.977326</td>\n",
              "      <td>1.477683</td>\n",
              "    </tr>\n",
              "    <tr>\n",
              "      <th>3</th>\n",
              "      <td>1.580000</td>\n",
              "      <td>-1.593546</td>\n",
              "      <td>-0.415951</td>\n",
              "      <td>1.589236</td>\n",
              "      <td>1.577059</td>\n",
              "      <td>1.498284</td>\n",
              "      <td>1.539873</td>\n",
              "      <td>1.555589</td>\n",
              "      <td>1.495418</td>\n",
              "      <td>-1.030037</td>\n",
              "      <td>1.494647</td>\n",
              "    </tr>\n",
              "    <tr>\n",
              "      <th>4</th>\n",
              "      <td>1.597961</td>\n",
              "      <td>-1.701878</td>\n",
              "      <td>4.783434</td>\n",
              "      <td>1.594914</td>\n",
              "      <td>1.581515</td>\n",
              "      <td>1.498851</td>\n",
              "      <td>1.538767</td>\n",
              "      <td>1.561613</td>\n",
              "      <td>1.488078</td>\n",
              "      <td>-0.996353</td>\n",
              "      <td>1.487612</td>\n",
              "    </tr>\n",
              "    <tr>\n",
              "      <th>5</th>\n",
              "      <td>1.594201</td>\n",
              "      <td>-1.618036</td>\n",
              "      <td>2.336664</td>\n",
              "      <td>1.588724</td>\n",
              "      <td>1.583735</td>\n",
              "      <td>1.504025</td>\n",
              "      <td>1.540419</td>\n",
              "      <td>1.567623</td>\n",
              "      <td>1.484742</td>\n",
              "      <td>-1.068411</td>\n",
              "      <td>1.483620</td>\n",
              "    </tr>\n",
              "    <tr>\n",
              "      <th>6</th>\n",
              "      <td>1.576600</td>\n",
              "      <td>-1.690795</td>\n",
              "      <td>1.724971</td>\n",
              "      <td>1.589749</td>\n",
              "      <td>1.587592</td>\n",
              "      <td>1.491993</td>\n",
              "      <td>1.537116</td>\n",
              "      <td>1.551754</td>\n",
              "      <td>1.491521</td>\n",
              "      <td>-1.125972</td>\n",
              "      <td>1.489876</td>\n",
              "    </tr>\n",
              "    <tr>\n",
              "      <th>7</th>\n",
              "      <td>1.628923</td>\n",
              "      <td>-1.620268</td>\n",
              "      <td>2.336664</td>\n",
              "      <td>1.704364</td>\n",
              "      <td>1.748469</td>\n",
              "      <td>1.706546</td>\n",
              "      <td>1.688689</td>\n",
              "      <td>1.702744</td>\n",
              "      <td>1.529339</td>\n",
              "      <td>-1.125972</td>\n",
              "      <td>1.527692</td>\n",
              "    </tr>\n",
              "    <tr>\n",
              "      <th>8</th>\n",
              "      <td>1.621609</td>\n",
              "      <td>-1.618413</td>\n",
              "      <td>4.936358</td>\n",
              "      <td>1.688357</td>\n",
              "      <td>1.731269</td>\n",
              "      <td>1.676221</td>\n",
              "      <td>1.677705</td>\n",
              "      <td>1.693431</td>\n",
              "      <td>1.522572</td>\n",
              "      <td>-1.130875</td>\n",
              "      <td>1.520880</td>\n",
              "    </tr>\n",
              "    <tr>\n",
              "      <th>9</th>\n",
              "      <td>1.607329</td>\n",
              "      <td>-1.617847</td>\n",
              "      <td>2.030819</td>\n",
              "      <td>1.680104</td>\n",
              "      <td>1.710729</td>\n",
              "      <td>1.664787</td>\n",
              "      <td>1.665612</td>\n",
              "      <td>1.674855</td>\n",
              "      <td>1.520259</td>\n",
              "      <td>-1.150062</td>\n",
              "      <td>1.518391</td>\n",
              "    </tr>\n",
              "  </tbody>\n",
              "</table>\n",
              "</div>\n",
              "      <button class=\"colab-df-convert\" onclick=\"convertToInteractive('df-b067411c-ef03-43cf-b021-11e27892fa4a')\"\n",
              "              title=\"Convert this dataframe to an interactive table.\"\n",
              "              style=\"display:none;\">\n",
              "        \n",
              "  <svg xmlns=\"http://www.w3.org/2000/svg\" height=\"24px\"viewBox=\"0 0 24 24\"\n",
              "       width=\"24px\">\n",
              "    <path d=\"M0 0h24v24H0V0z\" fill=\"none\"/>\n",
              "    <path d=\"M18.56 5.44l.94 2.06.94-2.06 2.06-.94-2.06-.94-.94-2.06-.94 2.06-2.06.94zm-11 1L8.5 8.5l.94-2.06 2.06-.94-2.06-.94L8.5 2.5l-.94 2.06-2.06.94zm10 10l.94 2.06.94-2.06 2.06-.94-2.06-.94-.94-2.06-.94 2.06-2.06.94z\"/><path d=\"M17.41 7.96l-1.37-1.37c-.4-.4-.92-.59-1.43-.59-.52 0-1.04.2-1.43.59L10.3 9.45l-7.72 7.72c-.78.78-.78 2.05 0 2.83L4 21.41c.39.39.9.59 1.41.59.51 0 1.02-.2 1.41-.59l7.78-7.78 2.81-2.81c.8-.78.8-2.07 0-2.86zM5.41 20L4 18.59l7.72-7.72 1.47 1.35L5.41 20z\"/>\n",
              "  </svg>\n",
              "      </button>\n",
              "      \n",
              "  <style>\n",
              "    .colab-df-container {\n",
              "      display:flex;\n",
              "      flex-wrap:wrap;\n",
              "      gap: 12px;\n",
              "    }\n",
              "\n",
              "    .colab-df-convert {\n",
              "      background-color: #E8F0FE;\n",
              "      border: none;\n",
              "      border-radius: 50%;\n",
              "      cursor: pointer;\n",
              "      display: none;\n",
              "      fill: #1967D2;\n",
              "      height: 32px;\n",
              "      padding: 0 0 0 0;\n",
              "      width: 32px;\n",
              "    }\n",
              "\n",
              "    .colab-df-convert:hover {\n",
              "      background-color: #E2EBFA;\n",
              "      box-shadow: 0px 1px 2px rgba(60, 64, 67, 0.3), 0px 1px 3px 1px rgba(60, 64, 67, 0.15);\n",
              "      fill: #174EA6;\n",
              "    }\n",
              "\n",
              "    [theme=dark] .colab-df-convert {\n",
              "      background-color: #3B4455;\n",
              "      fill: #D2E3FC;\n",
              "    }\n",
              "\n",
              "    [theme=dark] .colab-df-convert:hover {\n",
              "      background-color: #434B5C;\n",
              "      box-shadow: 0px 1px 3px 1px rgba(0, 0, 0, 0.15);\n",
              "      filter: drop-shadow(0px 1px 2px rgba(0, 0, 0, 0.3));\n",
              "      fill: #FFFFFF;\n",
              "    }\n",
              "  </style>\n",
              "\n",
              "      <script>\n",
              "        const buttonEl =\n",
              "          document.querySelector('#df-b067411c-ef03-43cf-b021-11e27892fa4a button.colab-df-convert');\n",
              "        buttonEl.style.display =\n",
              "          google.colab.kernel.accessAllowed ? 'block' : 'none';\n",
              "\n",
              "        async function convertToInteractive(key) {\n",
              "          const element = document.querySelector('#df-b067411c-ef03-43cf-b021-11e27892fa4a');\n",
              "          const dataTable =\n",
              "            await google.colab.kernel.invokeFunction('convertToInteractive',\n",
              "                                                     [key], {});\n",
              "          if (!dataTable) return;\n",
              "\n",
              "          const docLinkHtml = 'Like what you see? Visit the ' +\n",
              "            '<a target=\"_blank\" href=https://colab.research.google.com/notebooks/data_table.ipynb>data table notebook</a>'\n",
              "            + ' to learn more about interactive tables.';\n",
              "          element.innerHTML = '';\n",
              "          dataTable['output_type'] = 'display_data';\n",
              "          await google.colab.output.renderOutput(dataTable, element);\n",
              "          const docLink = document.createElement('div');\n",
              "          docLink.innerHTML = docLinkHtml;\n",
              "          element.appendChild(docLink);\n",
              "        }\n",
              "      </script>\n",
              "    </div>\n",
              "  </div>\n",
              "  "
            ]
          },
          "metadata": {},
          "execution_count": 13
        }
      ]
    },
    {
      "cell_type": "markdown",
      "source": [
        "# Now creating X and Y for our model"
      ],
      "metadata": {
        "id": "k78Cnod8WWk7"
      }
    },
    {
      "cell_type": "code",
      "source": [
        "Y = main_dataset.pop(\"Power_Generated\")\n",
        "X = main_dataset"
      ],
      "metadata": {
        "id": "P5eHw08TgfAj"
      },
      "execution_count": 15,
      "outputs": []
    },
    {
      "cell_type": "code",
      "source": [
        "X.isnull().sum()"
      ],
      "metadata": {
        "colab": {
          "base_uri": "https://localhost:8080/"
        },
        "id": "uJm0bRBkM13s",
        "outputId": "d41d56be-bddd-46c2-e9a1-9e24c71d7740"
      },
      "execution_count": 52,
      "outputs": [
        {
          "output_type": "execute_result",
          "data": {
            "text/plain": [
              "Air_Temp             0\n",
              "Relative_Humidity    0\n",
              "Wind_Speed           0\n",
              "RTD_1                0\n",
              "RTD_2                0\n",
              "RTD_3                0\n",
              "RTD_4                0\n",
              "RTD_5                0\n",
              "Array_Voltage        0\n",
              "Array_Current        0\n",
              "dtype: int64"
            ]
          },
          "metadata": {},
          "execution_count": 52
        }
      ]
    },
    {
      "cell_type": "code",
      "source": [
        "Y.isnull().sum()"
      ],
      "metadata": {
        "colab": {
          "base_uri": "https://localhost:8080/"
        },
        "id": "ruGKG_zdNQOF",
        "outputId": "caf9ff63-c8ab-413a-eb83-09394132927a"
      },
      "execution_count": 53,
      "outputs": [
        {
          "output_type": "execute_result",
          "data": {
            "text/plain": [
              "0"
            ]
          },
          "metadata": {},
          "execution_count": 53
        }
      ]
    },
    {
      "cell_type": "code",
      "source": [
        "X.shape"
      ],
      "metadata": {
        "colab": {
          "base_uri": "https://localhost:8080/"
        },
        "id": "5ZX4XM_iNVlA",
        "outputId": "de261f73-aeb2-47de-b642-f38328dccc8c"
      },
      "execution_count": 54,
      "outputs": [
        {
          "output_type": "execute_result",
          "data": {
            "text/plain": [
              "(1000, 10)"
            ]
          },
          "metadata": {},
          "execution_count": 54
        }
      ]
    },
    {
      "cell_type": "code",
      "source": [
        "Y.shape"
      ],
      "metadata": {
        "colab": {
          "base_uri": "https://localhost:8080/"
        },
        "id": "Qp-gugNZNXOX",
        "outputId": "45d16411-5b90-4fa4-aa96-f35b5ae0e4f6"
      },
      "execution_count": 55,
      "outputs": [
        {
          "output_type": "execute_result",
          "data": {
            "text/plain": [
              "(1000,)"
            ]
          },
          "metadata": {},
          "execution_count": 55
        }
      ]
    },
    {
      "cell_type": "code",
      "source": [
        "X.info()"
      ],
      "metadata": {
        "colab": {
          "base_uri": "https://localhost:8080/"
        },
        "id": "K87_KO7ihGEm",
        "outputId": "6a811283-189c-49c4-ab07-195ff1e6918c"
      },
      "execution_count": 17,
      "outputs": [
        {
          "output_type": "stream",
          "name": "stdout",
          "text": [
            "<class 'pandas.core.frame.DataFrame'>\n",
            "RangeIndex: 1000 entries, 0 to 999\n",
            "Data columns (total 10 columns):\n",
            " #   Column             Non-Null Count  Dtype  \n",
            "---  ------             --------------  -----  \n",
            " 0   Air_Temp           1000 non-null   float64\n",
            " 1   Relative_Humidity  1000 non-null   float64\n",
            " 2   Wind_Speed         1000 non-null   float64\n",
            " 3   RTD_1              1000 non-null   float64\n",
            " 4   RTD_2              1000 non-null   float64\n",
            " 5   RTD_3              1000 non-null   float64\n",
            " 6   RTD_4              1000 non-null   float64\n",
            " 7   RTD_5              1000 non-null   float64\n",
            " 8   Array_Voltage      1000 non-null   float64\n",
            " 9   Array_Current      1000 non-null   float64\n",
            "dtypes: float64(10)\n",
            "memory usage: 78.2 KB\n"
          ]
        }
      ]
    },
    {
      "cell_type": "code",
      "source": [
        "from sklearn.model_selection import train_test_split,cross_val_score\n",
        "X_train,X_test,Y_train,Y_test = train_test_split(X,Y,test_size=0.2)"
      ],
      "metadata": {
        "id": "aHuH1USEhQFm"
      },
      "execution_count": 18,
      "outputs": []
    },
    {
      "cell_type": "code",
      "source": [
        "# making a model 1\n",
        "\n",
        "import tensorflow as tf\n",
        "import random\n",
        "\n",
        "tf.random.set_seed(42)\n",
        "\n",
        "\n",
        "model_1 = tf.keras.Sequential([tf.keras.layers.Dense(100),\n",
        "                               tf.keras.layers.Dense(100),\n",
        "                               tf.keras.layers.Dense(50),\n",
        "                               tf.keras.layers.Dense(10),\n",
        "                               tf.keras.layers.Dense(1)])\n",
        "\n",
        "model_1.compile(loss=tf.keras.losses.mae,\n",
        "                optimizer = tf.keras.optimizers.SGD(),\n",
        "                metrics = [\"mae\"])\n",
        "\n",
        "\n",
        "\n",
        "history_1 = model_1.fit(X_train,Y_train, epochs=10)"
      ],
      "metadata": {
        "colab": {
          "base_uri": "https://localhost:8080/"
        },
        "id": "CCKpHqcahpkE",
        "outputId": "f371edfb-f373-4157-ebbd-87ef4e7716cd"
      },
      "execution_count": 64,
      "outputs": [
        {
          "output_type": "stream",
          "name": "stdout",
          "text": [
            "Epoch 1/10\n",
            "25/25 [==============================] - 0s 2ms/step - loss: 0.5145 - mae: 0.5145\n",
            "Epoch 2/10\n",
            "25/25 [==============================] - 0s 1ms/step - loss: 0.3243 - mae: 0.3243\n",
            "Epoch 3/10\n",
            "25/25 [==============================] - 0s 1ms/step - loss: 0.2585 - mae: 0.2585\n",
            "Epoch 4/10\n",
            "25/25 [==============================] - 0s 2ms/step - loss: 0.2160 - mae: 0.2160\n",
            "Epoch 5/10\n",
            "25/25 [==============================] - 0s 2ms/step - loss: 0.1663 - mae: 0.1663\n",
            "Epoch 6/10\n",
            "25/25 [==============================] - 0s 1ms/step - loss: 0.1462 - mae: 0.1462\n",
            "Epoch 7/10\n",
            "25/25 [==============================] - 0s 1ms/step - loss: 0.1358 - mae: 0.1358\n",
            "Epoch 8/10\n",
            "25/25 [==============================] - 0s 1ms/step - loss: 0.1155 - mae: 0.1155\n",
            "Epoch 9/10\n",
            "25/25 [==============================] - 0s 1ms/step - loss: 0.1180 - mae: 0.1180\n",
            "Epoch 10/10\n",
            "25/25 [==============================] - 0s 2ms/step - loss: 0.0999 - mae: 0.0999\n"
          ]
        }
      ]
    },
    {
      "cell_type": "code",
      "source": [
        "y_pred_1 = model_1.predict(X_test)"
      ],
      "metadata": {
        "id": "hLUu5GqlKlgW"
      },
      "execution_count": 66,
      "outputs": []
    },
    {
      "cell_type": "code",
      "source": [
        "pd.DataFrame(history_1.history).plot()\n",
        "plt.ylabel(\"Mean absolute error\")\n",
        "plt.xlabel(\"Epochs\")\n",
        "plt.title(\"Model_1 Error\")"
      ],
      "metadata": {
        "id": "XBPwjmhLhuXk",
        "colab": {
          "base_uri": "https://localhost:8080/",
          "height": 312
        },
        "outputId": "8421ef51-9562-44ed-89ac-81c9dd48b7f8"
      },
      "execution_count": 88,
      "outputs": [
        {
          "output_type": "execute_result",
          "data": {
            "text/plain": [
              "Text(0.5, 1.0, 'Model_1 Error')"
            ]
          },
          "metadata": {},
          "execution_count": 88
        },
        {
          "output_type": "display_data",
          "data": {
            "text/plain": [
              "<Figure size 432x288 with 1 Axes>"
            ],
            "image/png": "[encoded data removed]"
          },
          "metadata": {
            "needs_background": "light"
          }
        }
      ]
    },
    {
      "cell_type": "code",
      "source": [
        "# Calcuate the MAE\n",
        "mae = tf.metrics.mean_absolute_error(y_true=Y_test, \n",
        "                                     y_pred=y_pred_1.squeeze()) # use squeeze() to make same shape\n",
        "mae"
      ],
      "metadata": {
        "colab": {
          "base_uri": "https://localhost:8080/"
        },
        "id": "oWRUCeJjPIqg",
        "outputId": "e9f0bdbe-1b2a-4e62-ce97-924b20aad897"
      },
      "execution_count": 71,
      "outputs": [
        {
          "output_type": "execute_result",
          "data": {
            "text/plain": [
              "<tf.Tensor: shape=(), dtype=float32, numpy=0.17810541>"
            ]
          },
          "metadata": {},
          "execution_count": 71
        }
      ]
    },
    {
      "cell_type": "code",
      "source": [
        "model_1.evaluate(X_test,Y_test)"
      ],
      "metadata": {
        "colab": {
          "base_uri": "https://localhost:8080/"
        },
        "id": "skkZo_FYQR9L",
        "outputId": "7e761772-b26c-4147-a300-057f29af96d2"
      },
      "execution_count": 73,
      "outputs": [
        {
          "output_type": "stream",
          "name": "stdout",
          "text": [
            "7/7 [==============================] - 0s 2ms/step - loss: 0.1781 - mae: 0.1781\n"
          ]
        },
        {
          "output_type": "execute_result",
          "data": {
            "text/plain": [
              "[0.178105428814888, 0.178105428814888]"
            ]
          },
          "metadata": {},
          "execution_count": 73
        }
      ]
    },
    {
      "cell_type": "markdown",
      "source": [
        "# Model 2 "
      ],
      "metadata": {
        "id": "C2-Iaiw6QhL2"
      }
    },
    {
      "cell_type": "code",
      "source": [
        "# making a model 2\n",
        "\n",
        "import tensorflow as tf\n",
        "import random\n",
        "\n",
        "tf.random.set_seed(42)\n",
        "\n",
        "\n",
        "model_2 = tf.keras.Sequential([tf.keras.layers.Dense(100),\n",
        "                               tf.keras.layers.Dense(10),\n",
        "                               tf.keras.layers.Dense(1)])\n",
        "\n",
        "model_2.compile(loss=tf.keras.losses.mae,\n",
        "                optimizer = tf.keras.optimizers.SGD(),\n",
        "                metrics = [\"mae\"])\n",
        "\n",
        "\n",
        "\n",
        "history_2 = model_2.fit(X_train,Y_train, epochs=10)"
      ],
      "metadata": {
        "colab": {
          "base_uri": "https://localhost:8080/"
        },
        "id": "mRS5SQ-iDel7",
        "outputId": "ecb4bf56-483b-4075-f495-10696bf13b13"
      },
      "execution_count": 57,
      "outputs": [
        {
          "output_type": "stream",
          "name": "stdout",
          "text": [
            "Epoch 1/10\n",
            "25/25 [==============================] - 0s 1ms/step - loss: 0.2457 - mae: 0.2457\n",
            "Epoch 2/10\n",
            "25/25 [==============================] - 0s 1ms/step - loss: 0.2204 - mae: 0.2204\n",
            "Epoch 3/10\n",
            "25/25 [==============================] - 0s 1ms/step - loss: 0.2137 - mae: 0.2137\n",
            "Epoch 4/10\n",
            "25/25 [==============================] - 0s 1ms/step - loss: 0.1922 - mae: 0.1922\n",
            "Epoch 5/10\n",
            "25/25 [==============================] - 0s 1ms/step - loss: 0.1663 - mae: 0.1663\n",
            "Epoch 6/10\n",
            "25/25 [==============================] - 0s 2ms/step - loss: 0.1643 - mae: 0.1643\n",
            "Epoch 7/10\n",
            "25/25 [==============================] - 0s 2ms/step - loss: 0.1612 - mae: 0.1612\n",
            "Epoch 8/10\n",
            "25/25 [==============================] - 0s 1ms/step - loss: 0.1406 - mae: 0.1406\n",
            "Epoch 9/10\n",
            "25/25 [==============================] - 0s 2ms/step - loss: 0.1403 - mae: 0.1403\n",
            "Epoch 10/10\n",
            "25/25 [==============================] - 0s 1ms/step - loss: 0.1176 - mae: 0.1176\n"
          ]
        }
      ]
    },
    {
      "cell_type": "code",
      "source": [
        "pd.DataFrame(history_2.history).plot()\n",
        "plt.ylabel(\"Mean absoulte error\")\n",
        "plt.xlabel(\"Epochs\")\n",
        "plt.title(\"Model_2 Error\")"
      ],
      "metadata": {
        "colab": {
          "base_uri": "https://localhost:8080/",
          "height": 312
        },
        "id": "fSd6becZElVb",
        "outputId": "e4d615ae-7c11-4257-e95c-2db21d9b7966"
      },
      "execution_count": 89,
      "outputs": [
        {
          "output_type": "execute_result",
          "data": {
            "text/plain": [
              "Text(0.5, 1.0, 'Model_2 Error')"
            ]
          },
          "metadata": {},
          "execution_count": 89
        },
        {
          "output_type": "display_data",
          "data": {
            "text/plain": [
              "<Figure size 432x288 with 1 Axes>"
            ],
            "image/png": "[encoded data removed]"
          },
          "metadata": {
            "needs_background": "light"
          }
        }
      ]
    },
    {
      "cell_type": "code",
      "source": [
        "Y_prediction_2 = model_2.predict(X_test)"
      ],
      "metadata": {
        "id": "32ASYXH8FabA"
      },
      "execution_count": 61,
      "outputs": []
    },
    {
      "cell_type": "code",
      "source": [
        "# Calcuate the MAE\n",
        "mae = tf.metrics.mean_absolute_error(y_true=Y_test, \n",
        "                                     y_pred=Y_prediction_2.squeeze()) # use squeeze() to make same shape\n",
        "mae"
      ],
      "metadata": {
        "colab": {
          "base_uri": "https://localhost:8080/"
        },
        "id": "jUh4cJwhJlMQ",
        "outputId": "579ab10e-1b88-44ca-a39d-b422e3f0eeb8"
      },
      "execution_count": 63,
      "outputs": [
        {
          "output_type": "execute_result",
          "data": {
            "text/plain": [
              "<tf.Tensor: shape=(), dtype=float32, numpy=0.06693916>"
            ]
          },
          "metadata": {},
          "execution_count": 63
        }
      ]
    },
    {
      "cell_type": "code",
      "source": [
        "model_2.evaluate(X_test,Y_test)"
      ],
      "metadata": {
        "colab": {
          "base_uri": "https://localhost:8080/"
        },
        "id": "RC75T7nyO1VH",
        "outputId": "c4d3af4e-f634-4aaa-aaa3-8befabf4947e"
      },
      "execution_count": 74,
      "outputs": [
        {
          "output_type": "stream",
          "name": "stdout",
          "text": [
            "7/7 [==============================] - 0s 2ms/step - loss: 0.0669 - mae: 0.0669\n"
          ]
        },
        {
          "output_type": "execute_result",
          "data": {
            "text/plain": [
              "[0.06693917512893677, 0.06693917512893677]"
            ]
          },
          "metadata": {},
          "execution_count": 74
        }
      ]
    },
    {
      "cell_type": "code",
      "source": [
        "# making a model 3\n",
        "\n",
        "import tensorflow as tf\n",
        "import random\n",
        "\n",
        "tf.random.set_seed(42)\n",
        "\n",
        "\n",
        "model_3 = tf.keras.Sequential([tf.keras.layers.Dense(100),\n",
        "                               tf.keras.layers.Dense(10),\n",
        "                               tf.keras.layers.Dense(1)])\n",
        "\n",
        "model_3.compile(loss=tf.keras.losses.mae,\n",
        "                optimizer = tf.keras.optimizers.SGD(),\n",
        "                metrics = [\"mse\"])\n",
        "\n",
        "\n",
        "\n",
        "history_3 = model_3.fit(X_train,Y_train, epochs=10)"
      ],
      "metadata": {
        "colab": {
          "base_uri": "https://localhost:8080/"
        },
        "id": "12NFvaOjTa90",
        "outputId": "5878e02d-72c8-4733-9481-aaa8059aefb2"
      },
      "execution_count": 79,
      "outputs": [
        {
          "output_type": "stream",
          "name": "stdout",
          "text": [
            "Epoch 1/10\n",
            "25/25 [==============================] - 0s 1ms/step - loss: 0.2457 - mse: 0.1072\n",
            "Epoch 2/10\n",
            "25/25 [==============================] - 0s 1ms/step - loss: 0.2204 - mse: 0.0775\n",
            "Epoch 3/10\n",
            "25/25 [==============================] - 0s 1ms/step - loss: 0.2137 - mse: 0.0680\n",
            "Epoch 4/10\n",
            "25/25 [==============================] - 0s 1ms/step - loss: 0.1922 - mse: 0.0586\n",
            "Epoch 5/10\n",
            "25/25 [==============================] - 0s 1ms/step - loss: 0.1663 - mse: 0.0502\n",
            "Epoch 6/10\n",
            "25/25 [==============================] - 0s 1ms/step - loss: 0.1643 - mse: 0.0420\n",
            "Epoch 7/10\n",
            "25/25 [==============================] - 0s 1ms/step - loss: 0.1612 - mse: 0.0377\n",
            "Epoch 8/10\n",
            "25/25 [==============================] - 0s 1ms/step - loss: 0.1406 - mse: 0.0330\n",
            "Epoch 9/10\n",
            "25/25 [==============================] - 0s 1ms/step - loss: 0.1403 - mse: 0.0330\n",
            "Epoch 10/10\n",
            "25/25 [==============================] - 0s 1ms/step - loss: 0.1176 - mse: 0.0241\n"
          ]
        }
      ]
    },
    {
      "cell_type": "code",
      "source": [
        "pd.DataFrame(history_3.history).plot()\n",
        "plt.ylabel(\"Mean squared error\")\n",
        "plt.xlabel(\"Epochs\")\n",
        "plt.title(\"Model_3 Error\")"
      ],
      "metadata": {
        "colab": {
          "base_uri": "https://localhost:8080/",
          "height": 312
        },
        "id": "7spt4fNiQpWA",
        "outputId": "64c2b92c-b841-496c-e27b-8c78e650df04"
      },
      "execution_count": 90,
      "outputs": [
        {
          "output_type": "execute_result",
          "data": {
            "text/plain": [
              "Text(0.5, 1.0, 'Model_3 Error')"
            ]
          },
          "metadata": {},
          "execution_count": 90
        },
        {
          "output_type": "display_data",
          "data": {
            "text/plain": [
              "<Figure size 432x288 with 1 Axes>"
            ],
            "image/png": "[encoded data removed]"
          },
          "metadata": {
            "needs_background": "light"
          }
        }
      ]
    },
    {
      "cell_type": "code",
      "source": [
        "model_3.summary()"
      ],
      "metadata": {
        "colab": {
          "base_uri": "https://localhost:8080/"
        },
        "id": "-dJjFAejYjeI",
        "outputId": "44cfa901-d428-4edd-eb94-aa76fd9d2d29"
      },
      "execution_count": 92,
      "outputs": [
        {
          "output_type": "stream",
          "name": "stdout",
          "text": [
            "Model: \"sequential_13\"\n",
            "_________________________________________________________________\n",
            " Layer (type)                Output Shape              Param #   \n",
            "=================================================================\n",
            " dense_47 (Dense)            (32, 100)                 1100      \n",
            "                                                                 \n",
            " dense_48 (Dense)            (32, 10)                  1010      \n",
            "                                                                 \n",
            " dense_49 (Dense)            (32, 1)                   11        \n",
            "                                                                 \n",
            "=================================================================\n",
            "Total params: 2,121\n",
            "Trainable params: 2,121\n",
            "Non-trainable params: 0\n",
            "_________________________________________________________________\n"
          ]
        }
      ]
    },
    {
      "cell_type": "code",
      "source": [
        ""
      ],
      "metadata": {
        "id": "2DqWiXUNaAVX"
      },
      "execution_count": null,
      "outputs": []
    }
  ]
}